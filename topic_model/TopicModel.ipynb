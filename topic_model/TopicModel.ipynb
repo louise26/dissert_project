{
 "cells": [
  {
   "cell_type": "code",
   "execution_count": 2,
   "id": "809418ad",
   "metadata": {},
   "outputs": [
    {
     "data": {
      "text/html": [
       "<pre>Finished parsing file /Users/louisemoizan/Documents/dissert_project/topic_model/policies_copy/toolstation.com.txt</pre>"
      ],
      "text/plain": [
       "Finished parsing file /Users/louisemoizan/Documents/dissert_project/topic_model/policies_copy/toolstation.com.txt"
      ]
     },
     "metadata": {},
     "output_type": "display_data"
    },
    {
     "data": {
      "text/html": [
       "<pre>Parsing completed. Parsed 100 lines in 0.013705 secs.</pre>"
      ],
      "text/plain": [
       "Parsing completed. Parsed 100 lines in 0.013705 secs."
      ]
     },
     "metadata": {},
     "output_type": "display_data"
    },
    {
     "name": "stdout",
     "output_type": "stream",
     "text": [
      "------------------------------------------------------\n",
      "Inferred types from first 100 line(s) of file as \n",
      "column_type_hints=[str]\n",
      "If parsing fails due to incorrect types, you can correct\n",
      "the inferred type list above and pass it to read_csv in\n",
      "the column_type_hints argument\n",
      "------------------------------------------------------\n"
     ]
    },
    {
     "data": {
      "text/html": [
       "<pre>Finished parsing file /Users/louisemoizan/Documents/dissert_project/topic_model/policies_copy/toolstation.com.txt</pre>"
      ],
      "text/plain": [
       "Finished parsing file /Users/louisemoizan/Documents/dissert_project/topic_model/policies_copy/toolstation.com.txt"
      ]
     },
     "metadata": {},
     "output_type": "display_data"
    },
    {
     "data": {
      "text/html": [
       "<pre>Read 1135 lines. Lines per second: 87760</pre>"
      ],
      "text/plain": [
       "Read 1135 lines. Lines per second: 87760"
      ]
     },
     "metadata": {},
     "output_type": "display_data"
    },
    {
     "data": {
      "text/html": [
       "<pre>Finished parsing file /Users/louisemoizan/Documents/dissert_project/topic_model/policies_copy/webex.com.txt</pre>"
      ],
      "text/plain": [
       "Finished parsing file /Users/louisemoizan/Documents/dissert_project/topic_model/policies_copy/webex.com.txt"
      ]
     },
     "metadata": {},
     "output_type": "display_data"
    },
    {
     "data": {
      "text/html": [
       "<pre>Finished parsing file /Users/louisemoizan/Documents/dissert_project/topic_model/policies_copy/researchgate.net.txt</pre>"
      ],
      "text/plain": [
       "Finished parsing file /Users/louisemoizan/Documents/dissert_project/topic_model/policies_copy/researchgate.net.txt"
      ]
     },
     "metadata": {},
     "output_type": "display_data"
    },
    {
     "data": {
      "text/html": [
       "<pre>Finished parsing file /Users/louisemoizan/Documents/dissert_project/topic_model/policies_copy/tamilrockermovies.watch.txt</pre>"
      ],
      "text/plain": [
       "Finished parsing file /Users/louisemoizan/Documents/dissert_project/topic_model/policies_copy/tamilrockermovies.watch.txt"
      ]
     },
     "metadata": {},
     "output_type": "display_data"
    },
    {
     "data": {
      "text/html": [
       "<pre>Finished parsing file /Users/louisemoizan/Documents/dissert_project/topic_model/policies_copy/travelerdoor.com.txt</pre>"
      ],
      "text/plain": [
       "Finished parsing file /Users/louisemoizan/Documents/dissert_project/topic_model/policies_copy/travelerdoor.com.txt"
      ]
     },
     "metadata": {},
     "output_type": "display_data"
    },
    {
     "data": {
      "text/html": [
       "<pre>Finished parsing file /Users/louisemoizan/Documents/dissert_project/topic_model/policies_copy/asos.com.txt</pre>"
      ],
      "text/plain": [
       "Finished parsing file /Users/louisemoizan/Documents/dissert_project/topic_model/policies_copy/asos.com.txt"
      ]
     },
     "metadata": {},
     "output_type": "display_data"
    },
    {
     "data": {
      "text/html": [
       "<pre>Finished parsing file /Users/louisemoizan/Documents/dissert_project/topic_model/policies_copy/mangahelpers.com.txt</pre>"
      ],
      "text/plain": [
       "Finished parsing file /Users/louisemoizan/Documents/dissert_project/topic_model/policies_copy/mangahelpers.com.txt"
      ]
     },
     "metadata": {},
     "output_type": "display_data"
    },
    {
     "data": {
      "text/html": [
       "<pre>Finished parsing file /Users/louisemoizan/Documents/dissert_project/topic_model/policies_copy/myschoolportal.co.uk.txt</pre>"
      ],
      "text/plain": [
       "Finished parsing file /Users/louisemoizan/Documents/dissert_project/topic_model/policies_copy/myschoolportal.co.uk.txt"
      ]
     },
     "metadata": {},
     "output_type": "display_data"
    },
    {
     "data": {
      "text/html": [
       "<pre>Finished parsing file /Users/louisemoizan/Documents/dissert_project/topic_model/policies_copy/johnlewis.com.txt</pre>"
      ],
      "text/plain": [
       "Finished parsing file /Users/louisemoizan/Documents/dissert_project/topic_model/policies_copy/johnlewis.com.txt"
      ]
     },
     "metadata": {},
     "output_type": "display_data"
    },
    {
     "data": {
      "text/html": [
       "<pre>Finished parsing file /Users/louisemoizan/Documents/dissert_project/topic_model/policies_copy/weather.com.txt</pre>"
      ],
      "text/plain": [
       "Finished parsing file /Users/louisemoizan/Documents/dissert_project/topic_model/policies_copy/weather.com.txt"
      ]
     },
     "metadata": {},
     "output_type": "display_data"
    },
    {
     "data": {
      "text/html": [
       "<pre>Finished parsing file /Users/louisemoizan/Documents/dissert_project/topic_model/policies_copy/spotify.com.txt</pre>"
      ],
      "text/plain": [
       "Finished parsing file /Users/louisemoizan/Documents/dissert_project/topic_model/policies_copy/spotify.com.txt"
      ]
     },
     "metadata": {},
     "output_type": "display_data"
    },
    {
     "data": {
      "text/html": [
       "<pre>Finished parsing file /Users/louisemoizan/Documents/dissert_project/topic_model/policies_copy/barclays.co.uk.txt</pre>"
      ],
      "text/plain": [
       "Finished parsing file /Users/louisemoizan/Documents/dissert_project/topic_model/policies_copy/barclays.co.uk.txt"
      ]
     },
     "metadata": {},
     "output_type": "display_data"
    },
    {
     "data": {
      "text/html": [
       "<pre>Finished parsing file /Users/louisemoizan/Documents/dissert_project/topic_model/policies_copy/bristolpost.co.uk.txt</pre>"
      ],
      "text/plain": [
       "Finished parsing file /Users/louisemoizan/Documents/dissert_project/topic_model/policies_copy/bristolpost.co.uk.txt"
      ]
     },
     "metadata": {},
     "output_type": "display_data"
    },
    {
     "data": {
      "text/html": [
       "<pre>Finished parsing file /Users/louisemoizan/Documents/dissert_project/topic_model/policies_copy/tripadvisor.co.uk.txt</pre>"
      ],
      "text/plain": [
       "Finished parsing file /Users/louisemoizan/Documents/dissert_project/topic_model/policies_copy/tripadvisor.co.uk.txt"
      ]
     },
     "metadata": {},
     "output_type": "display_data"
    },
    {
     "data": {
      "text/html": [
       "<pre>Finished parsing file /Users/louisemoizan/Documents/dissert_project/topic_model/policies_copy/strava.com.txt</pre>"
      ],
      "text/plain": [
       "Finished parsing file /Users/louisemoizan/Documents/dissert_project/topic_model/policies_copy/strava.com.txt"
      ]
     },
     "metadata": {},
     "output_type": "display_data"
    },
    {
     "data": {
      "text/html": [
       "<pre>Finished parsing file /Users/louisemoizan/Documents/dissert_project/topic_model/policies_copy/racingpost.com.txt</pre>"
      ],
      "text/plain": [
       "Finished parsing file /Users/louisemoizan/Documents/dissert_project/topic_model/policies_copy/racingpost.com.txt"
      ]
     },
     "metadata": {},
     "output_type": "display_data"
    },
    {
     "data": {
      "text/html": [
       "<pre>Finished parsing file /Users/louisemoizan/Documents/dissert_project/topic_model/policies_copy/deviantart.com.txt</pre>"
      ],
      "text/plain": [
       "Finished parsing file /Users/louisemoizan/Documents/dissert_project/topic_model/policies_copy/deviantart.com.txt"
      ]
     },
     "metadata": {},
     "output_type": "display_data"
    },
    {
     "data": {
      "text/html": [
       "<pre>Finished parsing file /Users/louisemoizan/Documents/dissert_project/topic_model/policies_copy/amazon.com.txt</pre>"
      ],
      "text/plain": [
       "Finished parsing file /Users/louisemoizan/Documents/dissert_project/topic_model/policies_copy/amazon.com.txt"
      ]
     },
     "metadata": {},
     "output_type": "display_data"
    },
    {
     "data": {
      "text/html": [
       "<pre>Finished parsing file /Users/louisemoizan/Documents/dissert_project/topic_model/policies_copy/sainsburys.co.uk.txt</pre>"
      ],
      "text/plain": [
       "Finished parsing file /Users/louisemoizan/Documents/dissert_project/topic_model/policies_copy/sainsburys.co.uk.txt"
      ]
     },
     "metadata": {},
     "output_type": "display_data"
    },
    {
     "data": {
      "text/html": [
       "<pre>Finished parsing file /Users/louisemoizan/Documents/dissert_project/topic_model/policies_copy/quotientapp.com.txt</pre>"
      ],
      "text/plain": [
       "Finished parsing file /Users/louisemoizan/Documents/dissert_project/topic_model/policies_copy/quotientapp.com.txt"
      ]
     },
     "metadata": {},
     "output_type": "display_data"
    },
    {
     "data": {
      "text/html": [
       "<pre>Finished parsing file /Users/louisemoizan/Documents/dissert_project/topic_model/policies_copy/fandom.com.txt</pre>"
      ],
      "text/plain": [
       "Finished parsing file /Users/louisemoizan/Documents/dissert_project/topic_model/policies_copy/fandom.com.txt"
      ]
     },
     "metadata": {},
     "output_type": "display_data"
    },
    {
     "data": {
      "text/html": [
       "<pre>Finished parsing file /Users/louisemoizan/Documents/dissert_project/topic_model/policies_copy/g2a.com.txt</pre>"
      ],
      "text/plain": [
       "Finished parsing file /Users/louisemoizan/Documents/dissert_project/topic_model/policies_copy/g2a.com.txt"
      ]
     },
     "metadata": {},
     "output_type": "display_data"
    },
    {
     "data": {
      "text/html": [
       "<pre>Finished parsing file /Users/louisemoizan/Documents/dissert_project/topic_model/policies_copy/totaljobs.com.txt</pre>"
      ],
      "text/plain": [
       "Finished parsing file /Users/louisemoizan/Documents/dissert_project/topic_model/policies_copy/totaljobs.com.txt"
      ]
     },
     "metadata": {},
     "output_type": "display_data"
    },
    {
     "data": {
      "text/html": [
       "<pre>Finished parsing file /Users/louisemoizan/Documents/dissert_project/topic_model/policies_copy/google.co.in.txt</pre>"
      ],
      "text/plain": [
       "Finished parsing file /Users/louisemoizan/Documents/dissert_project/topic_model/policies_copy/google.co.in.txt"
      ]
     },
     "metadata": {},
     "output_type": "display_data"
    },
    {
     "data": {
      "text/html": [
       "<pre>Finished parsing file /Users/louisemoizan/Documents/dissert_project/topic_model/policies_copy/nature.com.txt</pre>"
      ],
      "text/plain": [
       "Finished parsing file /Users/louisemoizan/Documents/dissert_project/topic_model/policies_copy/nature.com.txt"
      ]
     },
     "metadata": {},
     "output_type": "display_data"
    },
    {
     "data": {
      "text/html": [
       "<pre>Finished parsing file /Users/louisemoizan/Documents/dissert_project/topic_model/policies_copy/adme.ru.txt</pre>"
      ],
      "text/plain": [
       "Finished parsing file /Users/louisemoizan/Documents/dissert_project/topic_model/policies_copy/adme.ru.txt"
      ]
     },
     "metadata": {},
     "output_type": "display_data"
    },
    {
     "data": {
      "text/html": [
       "<pre>Finished parsing file /Users/louisemoizan/Documents/dissert_project/topic_model/policies_copy/stackoverflow.com.txt</pre>"
      ],
      "text/plain": [
       "Finished parsing file /Users/louisemoizan/Documents/dissert_project/topic_model/policies_copy/stackoverflow.com.txt"
      ]
     },
     "metadata": {},
     "output_type": "display_data"
    },
    {
     "data": {
      "text/html": [
       "<pre>Finished parsing file /Users/louisemoizan/Documents/dissert_project/topic_model/policies_copy/theoldreader.com.txt</pre>"
      ],
      "text/plain": [
       "Finished parsing file /Users/louisemoizan/Documents/dissert_project/topic_model/policies_copy/theoldreader.com.txt"
      ]
     },
     "metadata": {},
     "output_type": "display_data"
    },
    {
     "data": {
      "text/html": [
       "<pre>Finished parsing file /Users/louisemoizan/Documents/dissert_project/topic_model/policies_copy/steampowered.com.txt</pre>"
      ],
      "text/plain": [
       "Finished parsing file /Users/louisemoizan/Documents/dissert_project/topic_model/policies_copy/steampowered.com.txt"
      ]
     },
     "metadata": {},
     "output_type": "display_data"
    },
    {
     "data": {
      "text/html": [
       "<pre>Finished parsing file /Users/louisemoizan/Documents/dissert_project/topic_model/policies_copy/gladly.io.txt</pre>"
      ],
      "text/plain": [
       "Finished parsing file /Users/louisemoizan/Documents/dissert_project/topic_model/policies_copy/gladly.io.txt"
      ]
     },
     "metadata": {},
     "output_type": "display_data"
    },
    {
     "data": {
      "text/html": [
       "<pre>Finished parsing file /Users/louisemoizan/Documents/dissert_project/topic_model/policies_copy/dezeen.com.txt</pre>"
      ],
      "text/plain": [
       "Finished parsing file /Users/louisemoizan/Documents/dissert_project/topic_model/policies_copy/dezeen.com.txt"
      ]
     },
     "metadata": {},
     "output_type": "display_data"
    },
    {
     "data": {
      "text/html": [
       "<pre>Finished parsing file /Users/louisemoizan/Documents/dissert_project/topic_model/policies_copy/pickmypostcode.com.txt</pre>"
      ],
      "text/plain": [
       "Finished parsing file /Users/louisemoizan/Documents/dissert_project/topic_model/policies_copy/pickmypostcode.com.txt"
      ]
     },
     "metadata": {},
     "output_type": "display_data"
    },
    {
     "data": {
      "text/html": [
       "<pre>Finished parsing file /Users/louisemoizan/Documents/dissert_project/topic_model/policies_copy/bt.com.txt</pre>"
      ],
      "text/plain": [
       "Finished parsing file /Users/louisemoizan/Documents/dissert_project/topic_model/policies_copy/bt.com.txt"
      ]
     },
     "metadata": {},
     "output_type": "display_data"
    },
    {
     "data": {
      "text/html": [
       "<pre>Finished parsing file /Users/louisemoizan/Documents/dissert_project/topic_model/policies_copy/mit.edu.txt</pre>"
      ],
      "text/plain": [
       "Finished parsing file /Users/louisemoizan/Documents/dissert_project/topic_model/policies_copy/mit.edu.txt"
      ]
     },
     "metadata": {},
     "output_type": "display_data"
    },
    {
     "data": {
      "text/html": [
       "<pre>Finished parsing file /Users/louisemoizan/Documents/dissert_project/topic_model/policies_copy/ecosia.org.txt</pre>"
      ],
      "text/plain": [
       "Finished parsing file /Users/louisemoizan/Documents/dissert_project/topic_model/policies_copy/ecosia.org.txt"
      ]
     },
     "metadata": {},
     "output_type": "display_data"
    },
    {
     "data": {
      "text/html": [
       "<pre>Finished parsing file /Users/louisemoizan/Documents/dissert_project/topic_model/policies_copy/y2mate.com.txt</pre>"
      ],
      "text/plain": [
       "Finished parsing file /Users/louisemoizan/Documents/dissert_project/topic_model/policies_copy/y2mate.com.txt"
      ]
     },
     "metadata": {},
     "output_type": "display_data"
    },
    {
     "data": {
      "text/html": [
       "<pre>Finished parsing file /Users/louisemoizan/Documents/dissert_project/topic_model/policies_copy/myanimelist.net.txt</pre>"
      ],
      "text/plain": [
       "Finished parsing file /Users/louisemoizan/Documents/dissert_project/topic_model/policies_copy/myanimelist.net.txt"
      ]
     },
     "metadata": {},
     "output_type": "display_data"
    },
    {
     "data": {
      "text/html": [
       "<pre>Finished parsing file /Users/louisemoizan/Documents/dissert_project/topic_model/policies_copy/bongacams.com.txt</pre>"
      ],
      "text/plain": [
       "Finished parsing file /Users/louisemoizan/Documents/dissert_project/topic_model/policies_copy/bongacams.com.txt"
      ]
     },
     "metadata": {},
     "output_type": "display_data"
    },
    {
     "data": {
      "text/html": [
       "<pre>Finished parsing file /Users/louisemoizan/Documents/dissert_project/topic_model/policies_copy/fourth.com.txt</pre>"
      ],
      "text/plain": [
       "Finished parsing file /Users/louisemoizan/Documents/dissert_project/topic_model/policies_copy/fourth.com.txt"
      ]
     },
     "metadata": {},
     "output_type": "display_data"
    },
    {
     "data": {
      "text/html": [
       "<pre>Finished parsing file /Users/louisemoizan/Documents/dissert_project/topic_model/policies_copy/glassdoor.co.uk.txt</pre>"
      ],
      "text/plain": [
       "Finished parsing file /Users/louisemoizan/Documents/dissert_project/topic_model/policies_copy/glassdoor.co.uk.txt"
      ]
     },
     "metadata": {},
     "output_type": "display_data"
    },
    {
     "data": {
      "text/html": [
       "<pre>Finished parsing file /Users/louisemoizan/Documents/dissert_project/topic_model/policies_copy/youtube.com.txt</pre>"
      ],
      "text/plain": [
       "Finished parsing file /Users/louisemoizan/Documents/dissert_project/topic_model/policies_copy/youtube.com.txt"
      ]
     },
     "metadata": {},
     "output_type": "display_data"
    },
    {
     "data": {
      "text/html": [
       "<pre>Finished parsing file /Users/louisemoizan/Documents/dissert_project/topic_model/policies_copy/vanguardinvestor.co.uk.txt</pre>"
      ],
      "text/plain": [
       "Finished parsing file /Users/louisemoizan/Documents/dissert_project/topic_model/policies_copy/vanguardinvestor.co.uk.txt"
      ]
     },
     "metadata": {},
     "output_type": "display_data"
    },
    {
     "data": {
      "text/html": [
       "<pre>Finished parsing file /Users/louisemoizan/Documents/dissert_project/topic_model/policies_copy/lloydsbank.com.txt</pre>"
      ],
      "text/plain": [
       "Finished parsing file /Users/louisemoizan/Documents/dissert_project/topic_model/policies_copy/lloydsbank.com.txt"
      ]
     },
     "metadata": {},
     "output_type": "display_data"
    },
    {
     "data": {
      "text/html": [
       "<pre>Finished parsing file /Users/louisemoizan/Documents/dissert_project/topic_model/policies_copy/ebay.co.uk.txt</pre>"
      ],
      "text/plain": [
       "Finished parsing file /Users/louisemoizan/Documents/dissert_project/topic_model/policies_copy/ebay.co.uk.txt"
      ]
     },
     "metadata": {},
     "output_type": "display_data"
    },
    {
     "data": {
      "text/html": [
       "<pre>Finished parsing file /Users/louisemoizan/Documents/dissert_project/topic_model/policies_copy/securly.com.txt</pre>"
      ],
      "text/plain": [
       "Finished parsing file /Users/louisemoizan/Documents/dissert_project/topic_model/policies_copy/securly.com.txt"
      ]
     },
     "metadata": {},
     "output_type": "display_data"
    },
    {
     "data": {
      "text/html": [
       "<pre>Finished parsing file /Users/louisemoizan/Documents/dissert_project/topic_model/policies_copy/meetup.com.txt</pre>"
      ],
      "text/plain": [
       "Finished parsing file /Users/louisemoizan/Documents/dissert_project/topic_model/policies_copy/meetup.com.txt"
      ]
     },
     "metadata": {},
     "output_type": "display_data"
    },
    {
     "data": {
      "text/html": [
       "<pre>Finished parsing file /Users/louisemoizan/Documents/dissert_project/topic_model/policies_copy/google.com.txt</pre>"
      ],
      "text/plain": [
       "Finished parsing file /Users/louisemoizan/Documents/dissert_project/topic_model/policies_copy/google.com.txt"
      ]
     },
     "metadata": {},
     "output_type": "display_data"
    },
    {
     "data": {
      "text/html": [
       "<pre>Finished parsing file /Users/louisemoizan/Documents/dissert_project/topic_model/policies_copy/rightmove.co.uk.txt</pre>"
      ],
      "text/plain": [
       "Finished parsing file /Users/louisemoizan/Documents/dissert_project/topic_model/policies_copy/rightmove.co.uk.txt"
      ]
     },
     "metadata": {},
     "output_type": "display_data"
    },
    {
     "data": {
      "text/html": [
       "<pre>Finished parsing file /Users/louisemoizan/Documents/dissert_project/topic_model/policies_copy/etoro.com.txt</pre>"
      ],
      "text/plain": [
       "Finished parsing file /Users/louisemoizan/Documents/dissert_project/topic_model/policies_copy/etoro.com.txt"
      ]
     },
     "metadata": {},
     "output_type": "display_data"
    },
    {
     "data": {
      "text/html": [
       "<pre>Finished parsing file /Users/louisemoizan/Documents/dissert_project/topic_model/policies_copy/sage.com.txt</pre>"
      ],
      "text/plain": [
       "Finished parsing file /Users/louisemoizan/Documents/dissert_project/topic_model/policies_copy/sage.com.txt"
      ]
     },
     "metadata": {},
     "output_type": "display_data"
    },
    {
     "data": {
      "text/html": [
       "<pre>Finished parsing file /Users/louisemoizan/Documents/dissert_project/topic_model/policies_copy/discord.com.txt</pre>"
      ],
      "text/plain": [
       "Finished parsing file /Users/louisemoizan/Documents/dissert_project/topic_model/policies_copy/discord.com.txt"
      ]
     },
     "metadata": {},
     "output_type": "display_data"
    },
    {
     "data": {
      "text/html": [
       "<pre>Finished parsing file /Users/louisemoizan/Documents/dissert_project/topic_model/policies_copy/savefrom.net.txt</pre>"
      ],
      "text/plain": [
       "Finished parsing file /Users/louisemoizan/Documents/dissert_project/topic_model/policies_copy/savefrom.net.txt"
      ]
     },
     "metadata": {},
     "output_type": "display_data"
    },
    {
     "data": {
      "text/html": [
       "<pre>Finished parsing file /Users/louisemoizan/Documents/dissert_project/topic_model/policies_copy/t.co.txt</pre>"
      ],
      "text/plain": [
       "Finished parsing file /Users/louisemoizan/Documents/dissert_project/topic_model/policies_copy/t.co.txt"
      ]
     },
     "metadata": {},
     "output_type": "display_data"
    },
    {
     "data": {
      "text/html": [
       "<pre>Finished parsing file /Users/louisemoizan/Documents/dissert_project/topic_model/policies_copy/kbhgames.com.txt</pre>"
      ],
      "text/plain": [
       "Finished parsing file /Users/louisemoizan/Documents/dissert_project/topic_model/policies_copy/kbhgames.com.txt"
      ]
     },
     "metadata": {},
     "output_type": "display_data"
    },
    {
     "data": {
      "text/html": [
       "<pre>Finished parsing file /Users/louisemoizan/Documents/dissert_project/topic_model/policies_copy/dawn.com.txt</pre>"
      ],
      "text/plain": [
       "Finished parsing file /Users/louisemoizan/Documents/dissert_project/topic_model/policies_copy/dawn.com.txt"
      ]
     },
     "metadata": {},
     "output_type": "display_data"
    },
    {
     "data": {
      "text/html": [
       "<pre>Finished parsing file /Users/louisemoizan/Documents/dissert_project/topic_model/policies_copy/force.com.txt</pre>"
      ],
      "text/plain": [
       "Finished parsing file /Users/louisemoizan/Documents/dissert_project/topic_model/policies_copy/force.com.txt"
      ]
     },
     "metadata": {},
     "output_type": "display_data"
    },
    {
     "data": {
      "text/html": [
       "<pre>Finished parsing file /Users/louisemoizan/Documents/dissert_project/topic_model/policies_copy/siska.tv.txt</pre>"
      ],
      "text/plain": [
       "Finished parsing file /Users/louisemoizan/Documents/dissert_project/topic_model/policies_copy/siska.tv.txt"
      ]
     },
     "metadata": {},
     "output_type": "display_data"
    },
    {
     "data": {
      "text/html": [
       "<pre>Finished parsing file /Users/louisemoizan/Documents/dissert_project/topic_model/policies_copy/cdrsample.com.txt</pre>"
      ],
      "text/plain": [
       "Finished parsing file /Users/louisemoizan/Documents/dissert_project/topic_model/policies_copy/cdrsample.com.txt"
      ]
     },
     "metadata": {},
     "output_type": "display_data"
    },
    {
     "data": {
      "text/html": [
       "<pre>Finished parsing file /Users/louisemoizan/Documents/dissert_project/topic_model/policies_copy/deliveroo.co.uk.txt</pre>"
      ],
      "text/plain": [
       "Finished parsing file /Users/louisemoizan/Documents/dissert_project/topic_model/policies_copy/deliveroo.co.uk.txt"
      ]
     },
     "metadata": {},
     "output_type": "display_data"
    },
    {
     "data": {
      "text/html": [
       "<pre>Finished parsing file /Users/louisemoizan/Documents/dissert_project/topic_model/policies_copy/espncricinfo.com.txt</pre>"
      ],
      "text/plain": [
       "Finished parsing file /Users/louisemoizan/Documents/dissert_project/topic_model/policies_copy/espncricinfo.com.txt"
      ]
     },
     "metadata": {},
     "output_type": "display_data"
    },
    {
     "data": {
      "text/html": [
       "<pre>Finished parsing file /Users/louisemoizan/Documents/dissert_project/topic_model/policies_copy/mrporter.com.txt</pre>"
      ],
      "text/plain": [
       "Finished parsing file /Users/louisemoizan/Documents/dissert_project/topic_model/policies_copy/mrporter.com.txt"
      ]
     },
     "metadata": {},
     "output_type": "display_data"
    },
    {
     "data": {
      "text/html": [
       "<pre>Finished parsing file /Users/louisemoizan/Documents/dissert_project/topic_model/policies_copy/nationwide.co.uk.txt</pre>"
      ],
      "text/plain": [
       "Finished parsing file /Users/louisemoizan/Documents/dissert_project/topic_model/policies_copy/nationwide.co.uk.txt"
      ]
     },
     "metadata": {},
     "output_type": "display_data"
    },
    {
     "data": {
      "text/html": [
       "<pre>Finished parsing file /Users/louisemoizan/Documents/dissert_project/topic_model/policies_copy/reed.co.uk.txt</pre>"
      ],
      "text/plain": [
       "Finished parsing file /Users/louisemoizan/Documents/dissert_project/topic_model/policies_copy/reed.co.uk.txt"
      ]
     },
     "metadata": {},
     "output_type": "display_data"
    },
    {
     "data": {
      "text/html": [
       "<pre>Finished parsing file /Users/louisemoizan/Documents/dissert_project/topic_model/policies_copy/etsy.com.txt</pre>"
      ],
      "text/plain": [
       "Finished parsing file /Users/louisemoizan/Documents/dissert_project/topic_model/policies_copy/etsy.com.txt"
      ]
     },
     "metadata": {},
     "output_type": "display_data"
    },
    {
     "data": {
      "text/html": [
       "<pre>Finished parsing file /Users/louisemoizan/Documents/dissert_project/topic_model/policies_copy/edgeborough.co.uk.txt</pre>"
      ],
      "text/plain": [
       "Finished parsing file /Users/louisemoizan/Documents/dissert_project/topic_model/policies_copy/edgeborough.co.uk.txt"
      ]
     },
     "metadata": {},
     "output_type": "display_data"
    },
    {
     "data": {
      "text/html": [
       "<pre>Finished parsing file /Users/louisemoizan/Documents/dissert_project/topic_model/policies_copy/reverso.net.txt</pre>"
      ],
      "text/plain": [
       "Finished parsing file /Users/louisemoizan/Documents/dissert_project/topic_model/policies_copy/reverso.net.txt"
      ]
     },
     "metadata": {},
     "output_type": "display_data"
    },
    {
     "data": {
      "text/html": [
       "<pre>Finished parsing file /Users/louisemoizan/Documents/dissert_project/topic_model/policies_copy/office.com.txt</pre>"
      ],
      "text/plain": [
       "Finished parsing file /Users/louisemoizan/Documents/dissert_project/topic_model/policies_copy/office.com.txt"
      ]
     },
     "metadata": {},
     "output_type": "display_data"
    },
    {
     "data": {
      "text/html": [
       "<pre>Finished parsing file /Users/louisemoizan/Documents/dissert_project/topic_model/policies_copy/tandfonline.com.txt</pre>"
      ],
      "text/plain": [
       "Finished parsing file /Users/louisemoizan/Documents/dissert_project/topic_model/policies_copy/tandfonline.com.txt"
      ]
     },
     "metadata": {},
     "output_type": "display_data"
    },
    {
     "data": {
      "text/html": [
       "<pre>Finished parsing file /Users/louisemoizan/Documents/dissert_project/topic_model/policies_copy/mangasee123.com.txt</pre>"
      ],
      "text/plain": [
       "Finished parsing file /Users/louisemoizan/Documents/dissert_project/topic_model/policies_copy/mangasee123.com.txt"
      ]
     },
     "metadata": {},
     "output_type": "display_data"
    },
    {
     "data": {
      "text/html": [
       "<pre>Finished parsing file /Users/louisemoizan/Documents/dissert_project/topic_model/policies_copy/roboform.com.txt</pre>"
      ],
      "text/plain": [
       "Finished parsing file /Users/louisemoizan/Documents/dissert_project/topic_model/policies_copy/roboform.com.txt"
      ]
     },
     "metadata": {},
     "output_type": "display_data"
    },
    {
     "data": {
      "text/html": [
       "<pre>Finished parsing file /Users/louisemoizan/Documents/dissert_project/topic_model/policies_copy/genius.com.txt</pre>"
      ],
      "text/plain": [
       "Finished parsing file /Users/louisemoizan/Documents/dissert_project/topic_model/policies_copy/genius.com.txt"
      ]
     },
     "metadata": {},
     "output_type": "display_data"
    },
    {
     "data": {
      "text/html": [
       "<pre>Finished parsing file /Users/louisemoizan/Documents/dissert_project/topic_model/policies_copy/apple.com.txt</pre>"
      ],
      "text/plain": [
       "Finished parsing file /Users/louisemoizan/Documents/dissert_project/topic_model/policies_copy/apple.com.txt"
      ]
     },
     "metadata": {},
     "output_type": "display_data"
    },
    {
     "data": {
      "text/html": [
       "<pre>Finished parsing file /Users/louisemoizan/Documents/dissert_project/topic_model/policies_copy/reddit.com.txt</pre>"
      ],
      "text/plain": [
       "Finished parsing file /Users/louisemoizan/Documents/dissert_project/topic_model/policies_copy/reddit.com.txt"
      ]
     },
     "metadata": {},
     "output_type": "display_data"
    },
    {
     "data": {
      "text/html": [
       "<pre>Finished parsing file /Users/louisemoizan/Documents/dissert_project/topic_model/policies_copy/topcashback.co.uk.txt</pre>"
      ],
      "text/plain": [
       "Finished parsing file /Users/louisemoizan/Documents/dissert_project/topic_model/policies_copy/topcashback.co.uk.txt"
      ]
     },
     "metadata": {},
     "output_type": "display_data"
    },
    {
     "data": {
      "text/html": [
       "<pre>Finished parsing file /Users/louisemoizan/Documents/dissert_project/topic_model/policies_copy/googlevideo.com.txt</pre>"
      ],
      "text/plain": [
       "Finished parsing file /Users/louisemoizan/Documents/dissert_project/topic_model/policies_copy/googlevideo.com.txt"
      ]
     },
     "metadata": {},
     "output_type": "display_data"
    },
    {
     "data": {
      "text/html": [
       "<pre>Finished parsing file /Users/louisemoizan/Documents/dissert_project/topic_model/policies_copy/walesonline.co.uk.txt</pre>"
      ],
      "text/plain": [
       "Finished parsing file /Users/louisemoizan/Documents/dissert_project/topic_model/policies_copy/walesonline.co.uk.txt"
      ]
     },
     "metadata": {},
     "output_type": "display_data"
    },
    {
     "data": {
      "text/html": [
       "<pre>Finished parsing file /Users/louisemoizan/Documents/dissert_project/topic_model/policies_copy/ionos.co.uk.txt</pre>"
      ],
      "text/plain": [
       "Finished parsing file /Users/louisemoizan/Documents/dissert_project/topic_model/policies_copy/ionos.co.uk.txt"
      ]
     },
     "metadata": {},
     "output_type": "display_data"
    },
    {
     "data": {
      "text/html": [
       "<pre>Finished parsing file /Users/louisemoizan/Documents/dissert_project/topic_model/policies_copy/fetlife.com.txt</pre>"
      ],
      "text/plain": [
       "Finished parsing file /Users/louisemoizan/Documents/dissert_project/topic_model/policies_copy/fetlife.com.txt"
      ]
     },
     "metadata": {},
     "output_type": "display_data"
    },
    {
     "data": {
      "text/html": [
       "<pre>Finished parsing file /Users/louisemoizan/Documents/dissert_project/topic_model/policies_copy/microsoft.com.txt</pre>"
      ],
      "text/plain": [
       "Finished parsing file /Users/louisemoizan/Documents/dissert_project/topic_model/policies_copy/microsoft.com.txt"
      ]
     },
     "metadata": {},
     "output_type": "display_data"
    },
    {
     "data": {
      "text/html": [
       "<pre>Finished parsing file /Users/louisemoizan/Documents/dissert_project/topic_model/policies_copy/virginmedia.com.txt</pre>"
      ],
      "text/plain": [
       "Finished parsing file /Users/louisemoizan/Documents/dissert_project/topic_model/policies_copy/virginmedia.com.txt"
      ]
     },
     "metadata": {},
     "output_type": "display_data"
    },
    {
     "data": {
      "text/html": [
       "<pre>Finished parsing file /Users/louisemoizan/Documents/dissert_project/topic_model/policies_copy/screwfix.com.txt</pre>"
      ],
      "text/plain": [
       "Finished parsing file /Users/louisemoizan/Documents/dissert_project/topic_model/policies_copy/screwfix.com.txt"
      ]
     },
     "metadata": {},
     "output_type": "display_data"
    },
    {
     "data": {
      "text/html": [
       "<pre>Finished parsing file /Users/louisemoizan/Documents/dissert_project/topic_model/policies_copy/eurocarparts.com.txt</pre>"
      ],
      "text/plain": [
       "Finished parsing file /Users/louisemoizan/Documents/dissert_project/topic_model/policies_copy/eurocarparts.com.txt"
      ]
     },
     "metadata": {},
     "output_type": "display_data"
    },
    {
     "data": {
      "text/html": [
       "<pre>Finished parsing file /Users/louisemoizan/Documents/dissert_project/topic_model/policies_copy/chess.com.txt</pre>"
      ],
      "text/plain": [
       "Finished parsing file /Users/louisemoizan/Documents/dissert_project/topic_model/policies_copy/chess.com.txt"
      ]
     },
     "metadata": {},
     "output_type": "display_data"
    },
    {
     "data": {
      "text/html": [
       "<pre>Finished parsing file /Users/louisemoizan/Documents/dissert_project/topic_model/policies_copy/hltv.org.txt</pre>"
      ],
      "text/plain": [
       "Finished parsing file /Users/louisemoizan/Documents/dissert_project/topic_model/policies_copy/hltv.org.txt"
      ]
     },
     "metadata": {},
     "output_type": "display_data"
    },
    {
     "data": {
      "text/html": [
       "<pre>Finished parsing file /Users/louisemoizan/Documents/dissert_project/topic_model/policies_copy/patientaccess.com.txt</pre>"
      ],
      "text/plain": [
       "Finished parsing file /Users/louisemoizan/Documents/dissert_project/topic_model/policies_copy/patientaccess.com.txt"
      ]
     },
     "metadata": {},
     "output_type": "display_data"
    },
    {
     "data": {
      "text/html": [
       "<pre>Finished parsing file /Users/louisemoizan/Documents/dissert_project/topic_model/policies_copy/freeip.me.txt</pre>"
      ],
      "text/plain": [
       "Finished parsing file /Users/louisemoizan/Documents/dissert_project/topic_model/policies_copy/freeip.me.txt"
      ]
     },
     "metadata": {},
     "output_type": "display_data"
    },
    {
     "data": {
      "text/html": [
       "<pre>Finished parsing file /Users/louisemoizan/Documents/dissert_project/topic_model/policies_copy/bbc.com.txt</pre>"
      ],
      "text/plain": [
       "Finished parsing file /Users/louisemoizan/Documents/dissert_project/topic_model/policies_copy/bbc.com.txt"
      ]
     },
     "metadata": {},
     "output_type": "display_data"
    },
    {
     "data": {
      "text/html": [
       "<pre>Finished parsing file /Users/louisemoizan/Documents/dissert_project/topic_model/policies_copy/facebook.com.txt</pre>"
      ],
      "text/plain": [
       "Finished parsing file /Users/louisemoizan/Documents/dissert_project/topic_model/policies_copy/facebook.com.txt"
      ]
     },
     "metadata": {},
     "output_type": "display_data"
    },
    {
     "data": {
      "text/html": [
       "<pre>Finished parsing file /Users/louisemoizan/Documents/dissert_project/topic_model/policies_copy/national-lottery.co.uk.txt</pre>"
      ],
      "text/plain": [
       "Finished parsing file /Users/louisemoizan/Documents/dissert_project/topic_model/policies_copy/national-lottery.co.uk.txt"
      ]
     },
     "metadata": {},
     "output_type": "display_data"
    },
    {
     "data": {
      "text/html": [
       "<pre>Finished parsing file /Users/louisemoizan/Documents/dissert_project/topic_model/policies_copy/bdsmlr.com.txt</pre>"
      ],
      "text/plain": [
       "Finished parsing file /Users/louisemoizan/Documents/dissert_project/topic_model/policies_copy/bdsmlr.com.txt"
      ]
     },
     "metadata": {},
     "output_type": "display_data"
    },
    {
     "data": {
      "text/html": [
       "<pre>Finished parsing file /Users/louisemoizan/Documents/dissert_project/topic_model/policies_copy/fragrantica.com.txt</pre>"
      ],
      "text/plain": [
       "Finished parsing file /Users/louisemoizan/Documents/dissert_project/topic_model/policies_copy/fragrantica.com.txt"
      ]
     },
     "metadata": {},
     "output_type": "display_data"
    },
    {
     "data": {
      "text/html": [
       "<pre>Finished parsing file /Users/louisemoizan/Documents/dissert_project/topic_model/policies_copy/manoramaonline.com.txt</pre>"
      ],
      "text/plain": [
       "Finished parsing file /Users/louisemoizan/Documents/dissert_project/topic_model/policies_copy/manoramaonline.com.txt"
      ]
     },
     "metadata": {},
     "output_type": "display_data"
    },
    {
     "data": {
      "text/html": [
       "<pre>Finished parsing file /Users/louisemoizan/Documents/dissert_project/topic_model/policies_copy/gla.ac.uk.txt</pre>"
      ],
      "text/plain": [
       "Finished parsing file /Users/louisemoizan/Documents/dissert_project/topic_model/policies_copy/gla.ac.uk.txt"
      ]
     },
     "metadata": {},
     "output_type": "display_data"
    },
    {
     "data": {
      "text/html": [
       "<pre>Finished parsing file /Users/louisemoizan/Documents/dissert_project/topic_model/policies_copy/futbin.com.txt</pre>"
      ],
      "text/plain": [
       "Finished parsing file /Users/louisemoizan/Documents/dissert_project/topic_model/policies_copy/futbin.com.txt"
      ]
     },
     "metadata": {},
     "output_type": "display_data"
    },
    {
     "data": {
      "text/html": [
       "<pre>Finished parsing file /Users/louisemoizan/Documents/dissert_project/topic_model/policies_copy/cv-library.co.uk.txt</pre>"
      ],
      "text/plain": [
       "Finished parsing file /Users/louisemoizan/Documents/dissert_project/topic_model/policies_copy/cv-library.co.uk.txt"
      ]
     },
     "metadata": {},
     "output_type": "display_data"
    },
    {
     "data": {
      "text/html": [
       "<pre>Finished parsing file /Users/louisemoizan/Documents/dissert_project/topic_model/policies_copy/aliexpress.com.txt</pre>"
      ],
      "text/plain": [
       "Finished parsing file /Users/louisemoizan/Documents/dissert_project/topic_model/policies_copy/aliexpress.com.txt"
      ]
     },
     "metadata": {},
     "output_type": "display_data"
    },
    {
     "data": {
      "text/html": [
       "<pre>Finished parsing file /Users/louisemoizan/Documents/dissert_project/topic_model/policies_copy/prom.ua.txt</pre>"
      ],
      "text/plain": [
       "Finished parsing file /Users/louisemoizan/Documents/dissert_project/topic_model/policies_copy/prom.ua.txt"
      ]
     },
     "metadata": {},
     "output_type": "display_data"
    },
    {
     "data": {
      "text/html": [
       "<pre>Finished parsing file /Users/louisemoizan/Documents/dissert_project/topic_model/policies_copy/repubblica.it.txt</pre>"
      ],
      "text/plain": [
       "Finished parsing file /Users/louisemoizan/Documents/dissert_project/topic_model/policies_copy/repubblica.it.txt"
      ]
     },
     "metadata": {},
     "output_type": "display_data"
    },
    {
     "data": {
      "text/html": [
       "<pre>Finished parsing file /Users/louisemoizan/Documents/dissert_project/topic_model/policies_copy/movieweb.com.txt</pre>"
      ],
      "text/plain": [
       "Finished parsing file /Users/louisemoizan/Documents/dissert_project/topic_model/policies_copy/movieweb.com.txt"
      ]
     },
     "metadata": {},
     "output_type": "display_data"
    },
    {
     "data": {
      "text/html": [
       "<pre>Finished parsing file /Users/louisemoizan/Documents/dissert_project/topic_model/policies_copy/radiopaedia.org.txt</pre>"
      ],
      "text/plain": [
       "Finished parsing file /Users/louisemoizan/Documents/dissert_project/topic_model/policies_copy/radiopaedia.org.txt"
      ]
     },
     "metadata": {},
     "output_type": "display_data"
    },
    {
     "data": {
      "text/html": [
       "<pre>Finished parsing file /Users/louisemoizan/Documents/dissert_project/topic_model/policies_copy/steamcommunity.com.txt</pre>"
      ],
      "text/plain": [
       "Finished parsing file /Users/louisemoizan/Documents/dissert_project/topic_model/policies_copy/steamcommunity.com.txt"
      ]
     },
     "metadata": {},
     "output_type": "display_data"
    },
    {
     "data": {
      "text/html": [
       "<pre>Finished parsing file /Users/louisemoizan/Documents/dissert_project/topic_model/policies_copy/patreon.com.txt</pre>"
      ],
      "text/plain": [
       "Finished parsing file /Users/louisemoizan/Documents/dissert_project/topic_model/policies_copy/patreon.com.txt"
      ]
     },
     "metadata": {},
     "output_type": "display_data"
    },
    {
     "data": {
      "text/html": [
       "<pre>Finished parsing file /Users/louisemoizan/Documents/dissert_project/topic_model/policies_copy/eporner.com.txt</pre>"
      ],
      "text/plain": [
       "Finished parsing file /Users/louisemoizan/Documents/dissert_project/topic_model/policies_copy/eporner.com.txt"
      ]
     },
     "metadata": {},
     "output_type": "display_data"
    },
    {
     "data": {
      "text/html": [
       "<pre>Finished parsing file /Users/louisemoizan/Documents/dissert_project/topic_model/policies_copy/pitchfork.com.txt</pre>"
      ],
      "text/plain": [
       "Finished parsing file /Users/louisemoizan/Documents/dissert_project/topic_model/policies_copy/pitchfork.com.txt"
      ]
     },
     "metadata": {},
     "output_type": "display_data"
    },
    {
     "data": {
      "text/html": [
       "<pre>Finished parsing file /Users/louisemoizan/Documents/dissert_project/topic_model/policies_copy/three.co.uk.txt</pre>"
      ],
      "text/plain": [
       "Finished parsing file /Users/louisemoizan/Documents/dissert_project/topic_model/policies_copy/three.co.uk.txt"
      ]
     },
     "metadata": {},
     "output_type": "display_data"
    },
    {
     "data": {
      "text/html": [
       "<pre>Finished parsing file /Users/louisemoizan/Documents/dissert_project/topic_model/policies_copy/italki.com.txt</pre>"
      ],
      "text/plain": [
       "Finished parsing file /Users/louisemoizan/Documents/dissert_project/topic_model/policies_copy/italki.com.txt"
      ]
     },
     "metadata": {},
     "output_type": "display_data"
    },
    {
     "data": {
      "text/html": [
       "<pre>Finished parsing file /Users/louisemoizan/Documents/dissert_project/topic_model/policies_copy/wikipedia.org.txt</pre>"
      ],
      "text/plain": [
       "Finished parsing file /Users/louisemoizan/Documents/dissert_project/topic_model/policies_copy/wikipedia.org.txt"
      ]
     },
     "metadata": {},
     "output_type": "display_data"
    },
    {
     "data": {
      "text/html": [
       "<pre>Finished parsing file /Users/louisemoizan/Documents/dissert_project/topic_model/policies_copy/cdkeys.com.txt</pre>"
      ],
      "text/plain": [
       "Finished parsing file /Users/louisemoizan/Documents/dissert_project/topic_model/policies_copy/cdkeys.com.txt"
      ]
     },
     "metadata": {},
     "output_type": "display_data"
    },
    {
     "data": {
      "text/html": [
       "<pre>Finished parsing file /Users/louisemoizan/Documents/dissert_project/topic_model/policies_copy/marksandspencer.com.txt</pre>"
      ],
      "text/plain": [
       "Finished parsing file /Users/louisemoizan/Documents/dissert_project/topic_model/policies_copy/marksandspencer.com.txt"
      ]
     },
     "metadata": {},
     "output_type": "display_data"
    },
    {
     "data": {
      "text/html": [
       "<pre>Finished parsing file /Users/louisemoizan/Documents/dissert_project/topic_model/policies_copy/sciencedirect.com.txt</pre>"
      ],
      "text/plain": [
       "Finished parsing file /Users/louisemoizan/Documents/dissert_project/topic_model/policies_copy/sciencedirect.com.txt"
      ]
     },
     "metadata": {},
     "output_type": "display_data"
    },
    {
     "data": {
      "text/html": [
       "<pre>Finished parsing file /Users/louisemoizan/Documents/dissert_project/topic_model/policies_copy/imagefap.com.txt</pre>"
      ],
      "text/plain": [
       "Finished parsing file /Users/louisemoizan/Documents/dissert_project/topic_model/policies_copy/imagefap.com.txt"
      ]
     },
     "metadata": {},
     "output_type": "display_data"
    },
    {
     "data": {
      "text/html": [
       "<pre>Finished parsing file /Users/louisemoizan/Documents/dissert_project/topic_model/policies_copy/fosterandpartners.com.txt</pre>"
      ],
      "text/plain": [
       "Finished parsing file /Users/louisemoizan/Documents/dissert_project/topic_model/policies_copy/fosterandpartners.com.txt"
      ]
     },
     "metadata": {},
     "output_type": "display_data"
    },
    {
     "data": {
      "text/html": [
       "<pre>Finished parsing file /Users/louisemoizan/Documents/dissert_project/topic_model/policies_copy/zoopla.co.uk.txt</pre>"
      ],
      "text/plain": [
       "Finished parsing file /Users/louisemoizan/Documents/dissert_project/topic_model/policies_copy/zoopla.co.uk.txt"
      ]
     },
     "metadata": {},
     "output_type": "display_data"
    },
    {
     "data": {
      "text/html": [
       "<pre>Finished parsing file /Users/louisemoizan/Documents/dissert_project/topic_model/policies_copy/youtubetomp3music.com.txt</pre>"
      ],
      "text/plain": [
       "Finished parsing file /Users/louisemoizan/Documents/dissert_project/topic_model/policies_copy/youtubetomp3music.com.txt"
      ]
     },
     "metadata": {},
     "output_type": "display_data"
    },
    {
     "data": {
      "text/html": [
       "<pre>Finished parsing file /Users/louisemoizan/Documents/dissert_project/topic_model/policies_copy/rateyourmusic.com.txt</pre>"
      ],
      "text/plain": [
       "Finished parsing file /Users/louisemoizan/Documents/dissert_project/topic_model/policies_copy/rateyourmusic.com.txt"
      ]
     },
     "metadata": {},
     "output_type": "display_data"
    },
    {
     "data": {
      "text/html": [
       "<pre>Finished parsing file /Users/louisemoizan/Documents/dissert_project/topic_model/policies_copy/xnxx.com.txt</pre>"
      ],
      "text/plain": [
       "Finished parsing file /Users/louisemoizan/Documents/dissert_project/topic_model/policies_copy/xnxx.com.txt"
      ]
     },
     "metadata": {},
     "output_type": "display_data"
    },
    {
     "data": {
      "text/html": [
       "<pre>Finished parsing file /Users/louisemoizan/Documents/dissert_project/topic_model/policies_copy/redd.it.txt</pre>"
      ],
      "text/plain": [
       "Finished parsing file /Users/louisemoizan/Documents/dissert_project/topic_model/policies_copy/redd.it.txt"
      ]
     },
     "metadata": {},
     "output_type": "display_data"
    },
    {
     "data": {
      "text/html": [
       "<pre>Finished parsing file /Users/louisemoizan/Documents/dissert_project/topic_model/policies_copy/autodesk.com.txt</pre>"
      ],
      "text/plain": [
       "Finished parsing file /Users/louisemoizan/Documents/dissert_project/topic_model/policies_copy/autodesk.com.txt"
      ]
     },
     "metadata": {},
     "output_type": "display_data"
    },
    {
     "data": {
      "text/html": [
       "<pre>Finished parsing file /Users/louisemoizan/Documents/dissert_project/topic_model/policies_copy/fdating.com.txt</pre>"
      ],
      "text/plain": [
       "Finished parsing file /Users/louisemoizan/Documents/dissert_project/topic_model/policies_copy/fdating.com.txt"
      ]
     },
     "metadata": {},
     "output_type": "display_data"
    },
    {
     "data": {
      "text/html": [
       "<pre>Finished parsing file /Users/louisemoizan/Documents/dissert_project/topic_model/policies_copy/tsb.co.uk.txt</pre>"
      ],
      "text/plain": [
       "Finished parsing file /Users/louisemoizan/Documents/dissert_project/topic_model/policies_copy/tsb.co.uk.txt"
      ]
     },
     "metadata": {},
     "output_type": "display_data"
    },
    {
     "data": {
      "text/html": [
       "<pre>Finished parsing file /Users/louisemoizan/Documents/dissert_project/topic_model/policies_copy/bbc.co.uk.txt</pre>"
      ],
      "text/plain": [
       "Finished parsing file /Users/louisemoizan/Documents/dissert_project/topic_model/policies_copy/bbc.co.uk.txt"
      ]
     },
     "metadata": {},
     "output_type": "display_data"
    },
    {
     "data": {
      "text/html": [
       "<pre>Finished parsing file /Users/louisemoizan/Documents/dissert_project/topic_model/policies_copy/egress.com.txt</pre>"
      ],
      "text/plain": [
       "Finished parsing file /Users/louisemoizan/Documents/dissert_project/topic_model/policies_copy/egress.com.txt"
      ]
     },
     "metadata": {},
     "output_type": "display_data"
    },
    {
     "data": {
      "text/html": [
       "<pre>Finished parsing file /Users/louisemoizan/Documents/dissert_project/topic_model/policies_copy/hegartymaths.com.txt</pre>"
      ],
      "text/plain": [
       "Finished parsing file /Users/louisemoizan/Documents/dissert_project/topic_model/policies_copy/hegartymaths.com.txt"
      ]
     },
     "metadata": {},
     "output_type": "display_data"
    },
    {
     "data": {
      "text/html": [
       "<pre>Finished parsing file /Users/louisemoizan/Documents/dissert_project/topic_model/policies_copy/satchelone.com.txt</pre>"
      ],
      "text/plain": [
       "Finished parsing file /Users/louisemoizan/Documents/dissert_project/topic_model/policies_copy/satchelone.com.txt"
      ]
     },
     "metadata": {},
     "output_type": "display_data"
    },
    {
     "data": {
      "text/html": [
       "<pre>Finished parsing file /Users/louisemoizan/Documents/dissert_project/topic_model/policies_copy/diply.com.txt</pre>"
      ],
      "text/plain": [
       "Finished parsing file /Users/louisemoizan/Documents/dissert_project/topic_model/policies_copy/diply.com.txt"
      ]
     },
     "metadata": {},
     "output_type": "display_data"
    },
    {
     "data": {
      "text/html": [
       "<pre>Finished parsing file /Users/louisemoizan/Documents/dissert_project/topic_model/policies_copy/daftsex.com.txt</pre>"
      ],
      "text/plain": [
       "Finished parsing file /Users/louisemoizan/Documents/dissert_project/topic_model/policies_copy/daftsex.com.txt"
      ]
     },
     "metadata": {},
     "output_type": "display_data"
    },
    {
     "data": {
      "text/html": [
       "<pre>Finished parsing file /Users/louisemoizan/Documents/dissert_project/topic_model/policies_copy/unige.it.txt</pre>"
      ],
      "text/plain": [
       "Finished parsing file /Users/louisemoizan/Documents/dissert_project/topic_model/policies_copy/unige.it.txt"
      ]
     },
     "metadata": {},
     "output_type": "display_data"
    },
    {
     "data": {
      "text/html": [
       "<pre>Finished parsing file /Users/louisemoizan/Documents/dissert_project/topic_model/policies_copy/roll20.net.txt</pre>"
      ],
      "text/plain": [
       "Finished parsing file /Users/louisemoizan/Documents/dissert_project/topic_model/policies_copy/roll20.net.txt"
      ]
     },
     "metadata": {},
     "output_type": "display_data"
    },
    {
     "data": {
      "text/html": [
       "<pre>Finished parsing file /Users/louisemoizan/Documents/dissert_project/topic_model/policies_copy/metoffice.gov.uk.txt</pre>"
      ],
      "text/plain": [
       "Finished parsing file /Users/louisemoizan/Documents/dissert_project/topic_model/policies_copy/metoffice.gov.uk.txt"
      ]
     },
     "metadata": {},
     "output_type": "display_data"
    },
    {
     "data": {
      "text/html": [
       "<pre>Finished parsing file /Users/louisemoizan/Documents/dissert_project/topic_model/policies_copy/booking.com.txt</pre>"
      ],
      "text/plain": [
       "Finished parsing file /Users/louisemoizan/Documents/dissert_project/topic_model/policies_copy/booking.com.txt"
      ]
     },
     "metadata": {},
     "output_type": "display_data"
    },
    {
     "data": {
      "text/html": [
       "<pre>Finished parsing file /Users/louisemoizan/Documents/dissert_project/topic_model/policies_copy/vk.com.txt</pre>"
      ],
      "text/plain": [
       "Finished parsing file /Users/louisemoizan/Documents/dissert_project/topic_model/policies_copy/vk.com.txt"
      ]
     },
     "metadata": {},
     "output_type": "display_data"
    },
    {
     "data": {
      "text/html": [
       "<pre>Finished parsing file /Users/louisemoizan/Documents/dissert_project/topic_model/policies_copy/hsbc.uk.txt</pre>"
      ],
      "text/plain": [
       "Finished parsing file /Users/louisemoizan/Documents/dissert_project/topic_model/policies_copy/hsbc.uk.txt"
      ]
     },
     "metadata": {},
     "output_type": "display_data"
    },
    {
     "data": {
      "text/html": [
       "<pre>Finished parsing file /Users/louisemoizan/Documents/dissert_project/topic_model/policies_copy/tradingview.com.txt</pre>"
      ],
      "text/plain": [
       "Finished parsing file /Users/louisemoizan/Documents/dissert_project/topic_model/policies_copy/tradingview.com.txt"
      ]
     },
     "metadata": {},
     "output_type": "display_data"
    },
    {
     "data": {
      "text/html": [
       "<pre>Finished parsing file /Users/louisemoizan/Documents/dissert_project/topic_model/policies_copy/premierinn.com.txt</pre>"
      ],
      "text/plain": [
       "Finished parsing file /Users/louisemoizan/Documents/dissert_project/topic_model/policies_copy/premierinn.com.txt"
      ]
     },
     "metadata": {},
     "output_type": "display_data"
    },
    {
     "data": {
      "text/html": [
       "<pre>Finished parsing file /Users/louisemoizan/Documents/dissert_project/topic_model/policies_copy/pcgamer.com.txt</pre>"
      ],
      "text/plain": [
       "Finished parsing file /Users/louisemoizan/Documents/dissert_project/topic_model/policies_copy/pcgamer.com.txt"
      ]
     },
     "metadata": {},
     "output_type": "display_data"
    },
    {
     "data": {
      "text/html": [
       "<pre>Finished parsing file /Users/louisemoizan/Documents/dissert_project/topic_model/policies_copy/ups.com.txt</pre>"
      ],
      "text/plain": [
       "Finished parsing file /Users/louisemoizan/Documents/dissert_project/topic_model/policies_copy/ups.com.txt"
      ]
     },
     "metadata": {},
     "output_type": "display_data"
    },
    {
     "data": {
      "text/html": [
       "<pre>Finished parsing file /Users/louisemoizan/Documents/dissert_project/topic_model/policies_copy/yahoo.com.txt</pre>"
      ],
      "text/plain": [
       "Finished parsing file /Users/louisemoizan/Documents/dissert_project/topic_model/policies_copy/yahoo.com.txt"
      ]
     },
     "metadata": {},
     "output_type": "display_data"
    },
    {
     "data": {
      "text/html": [
       "<pre>Finished parsing file /Users/louisemoizan/Documents/dissert_project/topic_model/policies_copy/ask4movie.cc.txt</pre>"
      ],
      "text/plain": [
       "Finished parsing file /Users/louisemoizan/Documents/dissert_project/topic_model/policies_copy/ask4movie.cc.txt"
      ]
     },
     "metadata": {},
     "output_type": "display_data"
    },
    {
     "data": {
      "text/html": [
       "<pre>Finished parsing file /Users/louisemoizan/Documents/dissert_project/topic_model/policies_copy/thetrainline.com.txt</pre>"
      ],
      "text/plain": [
       "Finished parsing file /Users/louisemoizan/Documents/dissert_project/topic_model/policies_copy/thetrainline.com.txt"
      ]
     },
     "metadata": {},
     "output_type": "display_data"
    },
    {
     "data": {
      "text/html": [
       "<pre>Finished parsing file /Users/louisemoizan/Documents/dissert_project/topic_model/policies_copy/ea.com.txt</pre>"
      ],
      "text/plain": [
       "Finished parsing file /Users/louisemoizan/Documents/dissert_project/topic_model/policies_copy/ea.com.txt"
      ]
     },
     "metadata": {},
     "output_type": "display_data"
    },
    {
     "data": {
      "text/html": [
       "<pre>Finished parsing file /Users/louisemoizan/Documents/dissert_project/topic_model/policies_copy/lloydsbank.co.uk.txt</pre>"
      ],
      "text/plain": [
       "Finished parsing file /Users/louisemoizan/Documents/dissert_project/topic_model/policies_copy/lloydsbank.co.uk.txt"
      ]
     },
     "metadata": {},
     "output_type": "display_data"
    },
    {
     "data": {
      "text/html": [
       "<pre>Finished parsing file /Users/louisemoizan/Documents/dissert_project/topic_model/policies_copy/op.gg.txt</pre>"
      ],
      "text/plain": [
       "Finished parsing file /Users/louisemoizan/Documents/dissert_project/topic_model/policies_copy/op.gg.txt"
      ]
     },
     "metadata": {},
     "output_type": "display_data"
    },
    {
     "data": {
      "text/html": [
       "<pre>Finished parsing file /Users/louisemoizan/Documents/dissert_project/topic_model/policies_copy/swiggle.org.uk.txt</pre>"
      ],
      "text/plain": [
       "Finished parsing file /Users/louisemoizan/Documents/dissert_project/topic_model/policies_copy/swiggle.org.uk.txt"
      ]
     },
     "metadata": {},
     "output_type": "display_data"
    },
    {
     "data": {
      "text/html": [
       "<pre>Finished parsing file /Users/louisemoizan/Documents/dissert_project/topic_model/policies_copy/skysports.com.txt</pre>"
      ],
      "text/plain": [
       "Finished parsing file /Users/louisemoizan/Documents/dissert_project/topic_model/policies_copy/skysports.com.txt"
      ]
     },
     "metadata": {},
     "output_type": "display_data"
    },
    {
     "data": {
      "text/html": [
       "<pre>Finished parsing file /Users/louisemoizan/Documents/dissert_project/topic_model/policies_copy/rspca.org.uk.txt</pre>"
      ],
      "text/plain": [
       "Finished parsing file /Users/louisemoizan/Documents/dissert_project/topic_model/policies_copy/rspca.org.uk.txt"
      ]
     },
     "metadata": {},
     "output_type": "display_data"
    },
    {
     "data": {
      "text/html": [
       "<pre>Finished parsing file /Users/louisemoizan/Documents/dissert_project/topic_model/policies_copy/wbs.ac.uk.txt</pre>"
      ],
      "text/plain": [
       "Finished parsing file /Users/louisemoizan/Documents/dissert_project/topic_model/policies_copy/wbs.ac.uk.txt"
      ]
     },
     "metadata": {},
     "output_type": "display_data"
    },
    {
     "data": {
      "text/html": [
       "<pre>Finished parsing file /Users/louisemoizan/Documents/dissert_project/topic_model/policies_copy/odir.org.txt</pre>"
      ],
      "text/plain": [
       "Finished parsing file /Users/louisemoizan/Documents/dissert_project/topic_model/policies_copy/odir.org.txt"
      ]
     },
     "metadata": {},
     "output_type": "display_data"
    },
    {
     "data": {
      "text/html": [
       "<pre>Finished parsing file /Users/louisemoizan/Documents/dissert_project/topic_model/policies_copy/servicem8.com.txt</pre>"
      ],
      "text/plain": [
       "Finished parsing file /Users/louisemoizan/Documents/dissert_project/topic_model/policies_copy/servicem8.com.txt"
      ]
     },
     "metadata": {},
     "output_type": "display_data"
    },
    {
     "data": {
      "text/html": [
       "<pre>Finished parsing file /Users/louisemoizan/Documents/dissert_project/topic_model/policies_copy/tkmaxx.com.txt</pre>"
      ],
      "text/plain": [
       "Finished parsing file /Users/louisemoizan/Documents/dissert_project/topic_model/policies_copy/tkmaxx.com.txt"
      ]
     },
     "metadata": {},
     "output_type": "display_data"
    },
    {
     "data": {
      "text/html": [
       "<pre>Finished parsing file /Users/louisemoizan/Documents/dissert_project/topic_model/policies_copy/express.co.uk.txt</pre>"
      ],
      "text/plain": [
       "Finished parsing file /Users/louisemoizan/Documents/dissert_project/topic_model/policies_copy/express.co.uk.txt"
      ]
     },
     "metadata": {},
     "output_type": "display_data"
    },
    {
     "data": {
      "text/html": [
       "<pre>Finished parsing file /Users/louisemoizan/Documents/dissert_project/topic_model/policies_copy/nexusmods.com.txt</pre>"
      ],
      "text/plain": [
       "Finished parsing file /Users/louisemoizan/Documents/dissert_project/topic_model/policies_copy/nexusmods.com.txt"
      ]
     },
     "metadata": {},
     "output_type": "display_data"
    },
    {
     "data": {
      "text/html": [
       "<pre>Finished parsing file /Users/louisemoizan/Documents/dissert_project/topic_model/policies_copy/thisvid.com.txt</pre>"
      ],
      "text/plain": [
       "Finished parsing file /Users/louisemoizan/Documents/dissert_project/topic_model/policies_copy/thisvid.com.txt"
      ]
     },
     "metadata": {},
     "output_type": "display_data"
    },
    {
     "data": {
      "text/html": [
       "<pre>Finished parsing file /Users/louisemoizan/Documents/dissert_project/topic_model/policies_copy/paypal.com.txt</pre>"
      ],
      "text/plain": [
       "Finished parsing file /Users/louisemoizan/Documents/dissert_project/topic_model/policies_copy/paypal.com.txt"
      ]
     },
     "metadata": {},
     "output_type": "display_data"
    },
    {
     "data": {
      "text/html": [
       "<pre>Finished parsing file /Users/louisemoizan/Documents/dissert_project/topic_model/policies_copy/autotrader.co.uk.txt</pre>"
      ],
      "text/plain": [
       "Finished parsing file /Users/louisemoizan/Documents/dissert_project/topic_model/policies_copy/autotrader.co.uk.txt"
      ]
     },
     "metadata": {},
     "output_type": "display_data"
    },
    {
     "data": {
      "text/html": [
       "<pre>Finished parsing file /Users/louisemoizan/Documents/dissert_project/topic_model/policies_copy/plex.tv.txt</pre>"
      ],
      "text/plain": [
       "Finished parsing file /Users/louisemoizan/Documents/dissert_project/topic_model/policies_copy/plex.tv.txt"
      ]
     },
     "metadata": {},
     "output_type": "display_data"
    },
    {
     "data": {
      "text/html": [
       "<pre>Finished parsing file /Users/louisemoizan/Documents/dissert_project/topic_model/policies_copy/fidelity.co.uk.txt</pre>"
      ],
      "text/plain": [
       "Finished parsing file /Users/louisemoizan/Documents/dissert_project/topic_model/policies_copy/fidelity.co.uk.txt"
      ]
     },
     "metadata": {},
     "output_type": "display_data"
    },
    {
     "data": {
      "text/html": [
       "<pre>Finished parsing file /Users/louisemoizan/Documents/dissert_project/topic_model/policies_copy/google.at.txt</pre>"
      ],
      "text/plain": [
       "Finished parsing file /Users/louisemoizan/Documents/dissert_project/topic_model/policies_copy/google.at.txt"
      ]
     },
     "metadata": {},
     "output_type": "display_data"
    },
    {
     "data": {
      "text/html": [
       "<pre>Finished parsing file /Users/louisemoizan/Documents/dissert_project/topic_model/policies_copy/airbnb.co.uk.txt</pre>"
      ],
      "text/plain": [
       "Finished parsing file /Users/louisemoizan/Documents/dissert_project/topic_model/policies_copy/airbnb.co.uk.txt"
      ]
     },
     "metadata": {},
     "output_type": "display_data"
    },
    {
     "data": {
      "text/html": [
       "<pre>Finished parsing file /Users/louisemoizan/Documents/dissert_project/topic_model/policies_copy/chaturbate.com.txt</pre>"
      ],
      "text/plain": [
       "Finished parsing file /Users/louisemoizan/Documents/dissert_project/topic_model/policies_copy/chaturbate.com.txt"
      ]
     },
     "metadata": {},
     "output_type": "display_data"
    },
    {
     "data": {
      "text/html": [
       "<pre>Finished parsing file /Users/louisemoizan/Documents/dissert_project/topic_model/policies_copy/google.nl.txt</pre>"
      ],
      "text/plain": [
       "Finished parsing file /Users/louisemoizan/Documents/dissert_project/topic_model/policies_copy/google.nl.txt"
      ]
     },
     "metadata": {},
     "output_type": "display_data"
    },
    {
     "data": {
      "text/html": [
       "<pre>Finished parsing file /Users/louisemoizan/Documents/dissert_project/topic_model/policies_copy/auth0.com.txt</pre>"
      ],
      "text/plain": [
       "Finished parsing file /Users/louisemoizan/Documents/dissert_project/topic_model/policies_copy/auth0.com.txt"
      ]
     },
     "metadata": {},
     "output_type": "display_data"
    },
    {
     "data": {
      "text/html": [
       "<pre>Finished parsing file /Users/louisemoizan/Documents/dissert_project/topic_model/policies_copy/coinmarketcap.com.txt</pre>"
      ],
      "text/plain": [
       "Finished parsing file /Users/louisemoizan/Documents/dissert_project/topic_model/policies_copy/coinmarketcap.com.txt"
      ]
     },
     "metadata": {},
     "output_type": "display_data"
    },
    {
     "data": {
      "text/html": [
       "<pre>Finished parsing file /Users/louisemoizan/Documents/dissert_project/topic_model/policies_copy/peopleperhour.com.txt</pre>"
      ],
      "text/plain": [
       "Finished parsing file /Users/louisemoizan/Documents/dissert_project/topic_model/policies_copy/peopleperhour.com.txt"
      ]
     },
     "metadata": {},
     "output_type": "display_data"
    },
    {
     "data": {
      "text/html": [
       "<pre>Finished parsing file /Users/louisemoizan/Documents/dissert_project/topic_model/policies_copy/asda.com.txt</pre>"
      ],
      "text/plain": [
       "Finished parsing file /Users/louisemoizan/Documents/dissert_project/topic_model/policies_copy/asda.com.txt"
      ]
     },
     "metadata": {},
     "output_type": "display_data"
    },
    {
     "data": {
      "text/html": [
       "<pre>Finished parsing file /Users/louisemoizan/Documents/dissert_project/topic_model/policies_copy/service-now.com.txt</pre>"
      ],
      "text/plain": [
       "Finished parsing file /Users/louisemoizan/Documents/dissert_project/topic_model/policies_copy/service-now.com.txt"
      ]
     },
     "metadata": {},
     "output_type": "display_data"
    },
    {
     "data": {
      "text/html": [
       "<pre>Finished parsing file /Users/louisemoizan/Documents/dissert_project/topic_model/policies_copy/very.co.uk.txt</pre>"
      ],
      "text/plain": [
       "Finished parsing file /Users/louisemoizan/Documents/dissert_project/topic_model/policies_copy/very.co.uk.txt"
      ]
     },
     "metadata": {},
     "output_type": "display_data"
    },
    {
     "data": {
      "text/html": [
       "<pre>Finished parsing file /Users/louisemoizan/Documents/dissert_project/topic_model/policies_copy/fashionbeans.com.txt</pre>"
      ],
      "text/plain": [
       "Finished parsing file /Users/louisemoizan/Documents/dissert_project/topic_model/policies_copy/fashionbeans.com.txt"
      ]
     },
     "metadata": {},
     "output_type": "display_data"
    },
    {
     "data": {
      "text/html": [
       "<pre>Finished parsing file /Users/louisemoizan/Documents/dissert_project/topic_model/policies_copy/live.com.txt</pre>"
      ],
      "text/plain": [
       "Finished parsing file /Users/louisemoizan/Documents/dissert_project/topic_model/policies_copy/live.com.txt"
      ]
     },
     "metadata": {},
     "output_type": "display_data"
    },
    {
     "data": {
      "text/html": [
       "<pre>Finished parsing file /Users/louisemoizan/Documents/dissert_project/topic_model/policies_copy/runescape.wiki.txt</pre>"
      ],
      "text/plain": [
       "Finished parsing file /Users/louisemoizan/Documents/dissert_project/topic_model/policies_copy/runescape.wiki.txt"
      ]
     },
     "metadata": {},
     "output_type": "display_data"
    },
    {
     "data": {
      "text/html": [
       "<pre>Finished parsing file /Users/louisemoizan/Documents/dissert_project/topic_model/policies_copy/ocado.com.txt</pre>"
      ],
      "text/plain": [
       "Finished parsing file /Users/louisemoizan/Documents/dissert_project/topic_model/policies_copy/ocado.com.txt"
      ]
     },
     "metadata": {},
     "output_type": "display_data"
    },
    {
     "data": {
      "text/html": [
       "<pre>Finished parsing file /Users/louisemoizan/Documents/dissert_project/topic_model/policies_copy/theforum365.com.txt</pre>"
      ],
      "text/plain": [
       "Finished parsing file /Users/louisemoizan/Documents/dissert_project/topic_model/policies_copy/theforum365.com.txt"
      ]
     },
     "metadata": {},
     "output_type": "display_data"
    },
    {
     "data": {
      "text/html": [
       "<pre>Finished parsing file /Users/louisemoizan/Documents/dissert_project/topic_model/policies_copy/instructure.com.txt</pre>"
      ],
      "text/plain": [
       "Finished parsing file /Users/louisemoizan/Documents/dissert_project/topic_model/policies_copy/instructure.com.txt"
      ]
     },
     "metadata": {},
     "output_type": "display_data"
    },
    {
     "data": {
      "text/html": [
       "<pre>Finished parsing file /Users/louisemoizan/Documents/dissert_project/topic_model/policies_copy/scribd.com.txt</pre>"
      ],
      "text/plain": [
       "Finished parsing file /Users/louisemoizan/Documents/dissert_project/topic_model/policies_copy/scribd.com.txt"
      ]
     },
     "metadata": {},
     "output_type": "display_data"
    },
    {
     "data": {
      "text/html": [
       "<pre>Finished parsing file /Users/louisemoizan/Documents/dissert_project/topic_model/policies_copy/mmo-champion.com.txt</pre>"
      ],
      "text/plain": [
       "Finished parsing file /Users/louisemoizan/Documents/dissert_project/topic_model/policies_copy/mmo-champion.com.txt"
      ]
     },
     "metadata": {},
     "output_type": "display_data"
    },
    {
     "data": {
      "text/html": [
       "<pre>Finished parsing file /Users/louisemoizan/Documents/dissert_project/topic_model/policies_copy/last.fm.txt</pre>"
      ],
      "text/plain": [
       "Finished parsing file /Users/louisemoizan/Documents/dissert_project/topic_model/policies_copy/last.fm.txt"
      ]
     },
     "metadata": {},
     "output_type": "display_data"
    },
    {
     "data": {
      "text/html": [
       "<pre>Finished parsing file /Users/louisemoizan/Documents/dissert_project/topic_model/policies_copy/ultimate-guitar.com.txt</pre>"
      ],
      "text/plain": [
       "Finished parsing file /Users/louisemoizan/Documents/dissert_project/topic_model/policies_copy/ultimate-guitar.com.txt"
      ]
     },
     "metadata": {},
     "output_type": "display_data"
    },
    {
     "data": {
      "text/html": [
       "<pre>Finished parsing file /Users/louisemoizan/Documents/dissert_project/topic_model/policies_copy/bandcamp.com.txt</pre>"
      ],
      "text/plain": [
       "Finished parsing file /Users/louisemoizan/Documents/dissert_project/topic_model/policies_copy/bandcamp.com.txt"
      ]
     },
     "metadata": {},
     "output_type": "display_data"
    },
    {
     "data": {
      "text/html": [
       "<pre>Finished parsing file /Users/louisemoizan/Documents/dissert_project/topic_model/policies_copy/onthemarket.com.txt</pre>"
      ],
      "text/plain": [
       "Finished parsing file /Users/louisemoizan/Documents/dissert_project/topic_model/policies_copy/onthemarket.com.txt"
      ]
     },
     "metadata": {},
     "output_type": "display_data"
    },
    {
     "data": {
      "text/html": [
       "<pre>Finished parsing file /Users/louisemoizan/Documents/dissert_project/topic_model/policies_copy/tumblr.com.txt</pre>"
      ],
      "text/plain": [
       "Finished parsing file /Users/louisemoizan/Documents/dissert_project/topic_model/policies_copy/tumblr.com.txt"
      ]
     },
     "metadata": {},
     "output_type": "display_data"
    },
    {
     "data": {
      "text/html": [
       "<pre>Finished parsing file /Users/louisemoizan/Documents/dissert_project/topic_model/policies_copy/boots.com.txt</pre>"
      ],
      "text/plain": [
       "Finished parsing file /Users/louisemoizan/Documents/dissert_project/topic_model/policies_copy/boots.com.txt"
      ]
     },
     "metadata": {},
     "output_type": "display_data"
    },
    {
     "data": {
      "text/html": [
       "<pre>Finished parsing file /Users/louisemoizan/Documents/dissert_project/topic_model/policies_copy/unrealengine.com.txt</pre>"
      ],
      "text/plain": [
       "Finished parsing file /Users/louisemoizan/Documents/dissert_project/topic_model/policies_copy/unrealengine.com.txt"
      ]
     },
     "metadata": {},
     "output_type": "display_data"
    },
    {
     "data": {
      "text/html": [
       "<pre>Finished parsing file /Users/louisemoizan/Documents/dissert_project/topic_model/policies_copy/wikimedia.org.txt</pre>"
      ],
      "text/plain": [
       "Finished parsing file /Users/louisemoizan/Documents/dissert_project/topic_model/policies_copy/wikimedia.org.txt"
      ]
     },
     "metadata": {},
     "output_type": "display_data"
    },
    {
     "data": {
      "text/html": [
       "<pre>Finished parsing file /Users/louisemoizan/Documents/dissert_project/topic_model/policies_copy/zoom.us.txt</pre>"
      ],
      "text/plain": [
       "Finished parsing file /Users/louisemoizan/Documents/dissert_project/topic_model/policies_copy/zoom.us.txt"
      ]
     },
     "metadata": {},
     "output_type": "display_data"
    },
    {
     "data": {
      "text/html": [
       "<pre>Finished parsing file /Users/louisemoizan/Documents/dissert_project/topic_model/policies_copy/ucl.ac.uk.txt</pre>"
      ],
      "text/plain": [
       "Finished parsing file /Users/louisemoizan/Documents/dissert_project/topic_model/policies_copy/ucl.ac.uk.txt"
      ]
     },
     "metadata": {},
     "output_type": "display_data"
    },
    {
     "data": {
      "text/html": [
       "<pre>Finished parsing file /Users/louisemoizan/Documents/dissert_project/topic_model/policies_copy/uefa.com.txt</pre>"
      ],
      "text/plain": [
       "Finished parsing file /Users/louisemoizan/Documents/dissert_project/topic_model/policies_copy/uefa.com.txt"
      ]
     },
     "metadata": {},
     "output_type": "display_data"
    },
    {
     "data": {
      "text/html": [
       "<pre>Finished parsing file /Users/louisemoizan/Documents/dissert_project/topic_model/policies_copy/google.co.uk.txt</pre>"
      ],
      "text/plain": [
       "Finished parsing file /Users/louisemoizan/Documents/dissert_project/topic_model/policies_copy/google.co.uk.txt"
      ]
     },
     "metadata": {},
     "output_type": "display_data"
    },
    {
     "data": {
      "text/html": [
       "<pre>Finished parsing file /Users/louisemoizan/Documents/dissert_project/topic_model/policies_copy/udemy.com.txt</pre>"
      ],
      "text/plain": [
       "Finished parsing file /Users/louisemoizan/Documents/dissert_project/topic_model/policies_copy/udemy.com.txt"
      ]
     },
     "metadata": {},
     "output_type": "display_data"
    },
    {
     "data": {
      "text/html": [
       "<pre>Finished parsing file /Users/louisemoizan/Documents/dissert_project/topic_model/policies_copy/aol.co.uk.txt</pre>"
      ],
      "text/plain": [
       "Finished parsing file /Users/louisemoizan/Documents/dissert_project/topic_model/policies_copy/aol.co.uk.txt"
      ]
     },
     "metadata": {},
     "output_type": "display_data"
    },
    {
     "data": {
      "text/html": [
       "<pre>Finished parsing file /Users/louisemoizan/Documents/dissert_project/topic_model/policies_copy/independent.co.uk.txt</pre>"
      ],
      "text/plain": [
       "Finished parsing file /Users/louisemoizan/Documents/dissert_project/topic_model/policies_copy/independent.co.uk.txt"
      ]
     },
     "metadata": {},
     "output_type": "display_data"
    },
    {
     "data": {
      "text/html": [
       "<pre>Finished parsing file /Users/louisemoizan/Documents/dissert_project/topic_model/policies_copy/trustpilot.com.txt</pre>"
      ],
      "text/plain": [
       "Finished parsing file /Users/louisemoizan/Documents/dissert_project/topic_model/policies_copy/trustpilot.com.txt"
      ]
     },
     "metadata": {},
     "output_type": "display_data"
    },
    {
     "data": {
      "text/html": [
       "<pre>Finished parsing file /Users/louisemoizan/Documents/dissert_project/topic_model/policies_copy/runescape.com.txt</pre>"
      ],
      "text/plain": [
       "Finished parsing file /Users/louisemoizan/Documents/dissert_project/topic_model/policies_copy/runescape.com.txt"
      ]
     },
     "metadata": {},
     "output_type": "display_data"
    },
    {
     "data": {
      "text/html": [
       "<pre>Finished parsing file /Users/louisemoizan/Documents/dissert_project/topic_model/policies_copy/channel4.com.txt</pre>"
      ],
      "text/plain": [
       "Finished parsing file /Users/louisemoizan/Documents/dissert_project/topic_model/policies_copy/channel4.com.txt"
      ]
     },
     "metadata": {},
     "output_type": "display_data"
    },
    {
     "data": {
      "text/html": [
       "<pre>Finished parsing file /Users/louisemoizan/Documents/dissert_project/topic_model/policies_copy/namasha.com.txt</pre>"
      ],
      "text/plain": [
       "Finished parsing file /Users/louisemoizan/Documents/dissert_project/topic_model/policies_copy/namasha.com.txt"
      ]
     },
     "metadata": {},
     "output_type": "display_data"
    },
    {
     "data": {
      "text/html": [
       "<pre>Finished parsing file /Users/louisemoizan/Documents/dissert_project/topic_model/policies_copy/ig.com.txt</pre>"
      ],
      "text/plain": [
       "Finished parsing file /Users/louisemoizan/Documents/dissert_project/topic_model/policies_copy/ig.com.txt"
      ]
     },
     "metadata": {},
     "output_type": "display_data"
    },
    {
     "data": {
      "text/html": [
       "<pre>Finished parsing file /Users/louisemoizan/Documents/dissert_project/topic_model/policies_copy/whatsapp.com.txt</pre>"
      ],
      "text/plain": [
       "Finished parsing file /Users/louisemoizan/Documents/dissert_project/topic_model/policies_copy/whatsapp.com.txt"
      ]
     },
     "metadata": {},
     "output_type": "display_data"
    },
    {
     "data": {
      "text/html": [
       "<pre>Finished parsing file /Users/louisemoizan/Documents/dissert_project/topic_model/policies_copy/tiktok.com.txt</pre>"
      ],
      "text/plain": [
       "Finished parsing file /Users/louisemoizan/Documents/dissert_project/topic_model/policies_copy/tiktok.com.txt"
      ]
     },
     "metadata": {},
     "output_type": "display_data"
    },
    {
     "data": {
      "text/html": [
       "<pre>Finished parsing file /Users/louisemoizan/Documents/dissert_project/topic_model/policies_copy/dailymail.co.uk.txt</pre>"
      ],
      "text/plain": [
       "Finished parsing file /Users/louisemoizan/Documents/dissert_project/topic_model/policies_copy/dailymail.co.uk.txt"
      ]
     },
     "metadata": {},
     "output_type": "display_data"
    },
    {
     "data": {
      "text/html": [
       "<pre>Finished parsing file /Users/louisemoizan/Documents/dissert_project/topic_model/policies_copy/pof.com.txt</pre>"
      ],
      "text/plain": [
       "Finished parsing file /Users/louisemoizan/Documents/dissert_project/topic_model/policies_copy/pof.com.txt"
      ]
     },
     "metadata": {},
     "output_type": "display_data"
    },
    {
     "data": {
      "text/html": [
       "<pre>Finished parsing file /Users/louisemoizan/Documents/dissert_project/topic_model/policies_copy/sahibinden.com.txt</pre>"
      ],
      "text/plain": [
       "Finished parsing file /Users/louisemoizan/Documents/dissert_project/topic_model/policies_copy/sahibinden.com.txt"
      ]
     },
     "metadata": {},
     "output_type": "display_data"
    },
    {
     "data": {
      "text/html": [
       "<pre>Finished parsing file /Users/louisemoizan/Documents/dissert_project/topic_model/policies_copy/cnn.com.txt</pre>"
      ],
      "text/plain": [
       "Finished parsing file /Users/louisemoizan/Documents/dissert_project/topic_model/policies_copy/cnn.com.txt"
      ]
     },
     "metadata": {},
     "output_type": "display_data"
    },
    {
     "data": {
      "text/html": [
       "<pre>Finished parsing file /Users/louisemoizan/Documents/dissert_project/topic_model/policies_copy/comparethemarket.com.txt</pre>"
      ],
      "text/plain": [
       "Finished parsing file /Users/louisemoizan/Documents/dissert_project/topic_model/policies_copy/comparethemarket.com.txt"
      ]
     },
     "metadata": {},
     "output_type": "display_data"
    },
    {
     "data": {
      "text/html": [
       "<pre>Finished parsing file /Users/louisemoizan/Documents/dissert_project/topic_model/policies_copy/halifax-online.co.uk.txt</pre>"
      ],
      "text/plain": [
       "Finished parsing file /Users/louisemoizan/Documents/dissert_project/topic_model/policies_copy/halifax-online.co.uk.txt"
      ]
     },
     "metadata": {},
     "output_type": "display_data"
    },
    {
     "data": {
      "text/html": [
       "<pre>Finished parsing file /Users/louisemoizan/Documents/dissert_project/topic_model/policies_copy/livejasmin.com.txt</pre>"
      ],
      "text/plain": [
       "Finished parsing file /Users/louisemoizan/Documents/dissert_project/topic_model/policies_copy/livejasmin.com.txt"
      ]
     },
     "metadata": {},
     "output_type": "display_data"
    },
    {
     "data": {
      "text/html": [
       "<pre>Finished parsing file /Users/louisemoizan/Documents/dissert_project/topic_model/policies_copy/gumtree.com.txt</pre>"
      ],
      "text/plain": [
       "Finished parsing file /Users/louisemoizan/Documents/dissert_project/topic_model/policies_copy/gumtree.com.txt"
      ]
     },
     "metadata": {},
     "output_type": "display_data"
    },
    {
     "data": {
      "text/html": [
       "<pre>Finished parsing file /Users/louisemoizan/Documents/dissert_project/topic_model/policies_copy/boohoo.com.txt</pre>"
      ],
      "text/plain": [
       "Finished parsing file /Users/louisemoizan/Documents/dissert_project/topic_model/policies_copy/boohoo.com.txt"
      ]
     },
     "metadata": {},
     "output_type": "display_data"
    },
    {
     "data": {
      "text/html": [
       "<pre>Finished parsing file /Users/louisemoizan/Documents/dissert_project/topic_model/policies_copy/mail.ru.txt</pre>"
      ],
      "text/plain": [
       "Finished parsing file /Users/louisemoizan/Documents/dissert_project/topic_model/policies_copy/mail.ru.txt"
      ]
     },
     "metadata": {},
     "output_type": "display_data"
    },
    {
     "data": {
      "text/html": [
       "<pre>Finished parsing file /Users/louisemoizan/Documents/dissert_project/topic_model/policies_copy/ilovepdf.com.txt</pre>"
      ],
      "text/plain": [
       "Finished parsing file /Users/louisemoizan/Documents/dissert_project/topic_model/policies_copy/ilovepdf.com.txt"
      ]
     },
     "metadata": {},
     "output_type": "display_data"
    },
    {
     "data": {
      "text/html": [
       "<pre>Finished parsing file /Users/louisemoizan/Documents/dissert_project/topic_model/policies_copy/worthpoint.com.txt</pre>"
      ],
      "text/plain": [
       "Finished parsing file /Users/louisemoizan/Documents/dissert_project/topic_model/policies_copy/worthpoint.com.txt"
      ]
     },
     "metadata": {},
     "output_type": "display_data"
    },
    {
     "data": {
      "text/html": [
       "<pre>Finished parsing file /Users/louisemoizan/Documents/dissert_project/topic_model/policies_copy/noodlemagazine.com.txt</pre>"
      ],
      "text/plain": [
       "Finished parsing file /Users/louisemoizan/Documents/dissert_project/topic_model/policies_copy/noodlemagazine.com.txt"
      ]
     },
     "metadata": {},
     "output_type": "display_data"
    },
    {
     "data": {
      "text/html": [
       "<pre>Finished parsing file /Users/louisemoizan/Documents/dissert_project/topic_model/policies_copy/dominos.co.uk.txt</pre>"
      ],
      "text/plain": [
       "Finished parsing file /Users/louisemoizan/Documents/dissert_project/topic_model/policies_copy/dominos.co.uk.txt"
      ]
     },
     "metadata": {},
     "output_type": "display_data"
    },
    {
     "data": {
      "text/html": [
       "<pre>Finished parsing file /Users/louisemoizan/Documents/dissert_project/topic_model/policies_copy/wordpress.com.txt</pre>"
      ],
      "text/plain": [
       "Finished parsing file /Users/louisemoizan/Documents/dissert_project/topic_model/policies_copy/wordpress.com.txt"
      ]
     },
     "metadata": {},
     "output_type": "display_data"
    },
    {
     "data": {
      "text/html": [
       "<pre>Finished parsing file /Users/louisemoizan/Documents/dissert_project/topic_model/policies_copy/thesun.co.uk.txt</pre>"
      ],
      "text/plain": [
       "Finished parsing file /Users/louisemoizan/Documents/dissert_project/topic_model/policies_copy/thesun.co.uk.txt"
      ]
     },
     "metadata": {},
     "output_type": "display_data"
    },
    {
     "data": {
      "text/html": [
       "<pre>Finished parsing file /Users/louisemoizan/Documents/dissert_project/topic_model/policies_copy/webanywhere.co.uk.txt</pre>"
      ],
      "text/plain": [
       "Finished parsing file /Users/louisemoizan/Documents/dissert_project/topic_model/policies_copy/webanywhere.co.uk.txt"
      ]
     },
     "metadata": {},
     "output_type": "display_data"
    },
    {
     "data": {
      "text/html": [
       "<pre>Finished parsing file /Users/louisemoizan/Documents/dissert_project/topic_model/policies_copy/sportsmole.co.uk.txt</pre>"
      ],
      "text/plain": [
       "Finished parsing file /Users/louisemoizan/Documents/dissert_project/topic_model/policies_copy/sportsmole.co.uk.txt"
      ]
     },
     "metadata": {},
     "output_type": "display_data"
    },
    {
     "data": {
      "text/html": [
       "<pre>Finished parsing file /Users/louisemoizan/Documents/dissert_project/topic_model/policies_copy/box.com.txt</pre>"
      ],
      "text/plain": [
       "Finished parsing file /Users/louisemoizan/Documents/dissert_project/topic_model/policies_copy/box.com.txt"
      ]
     },
     "metadata": {},
     "output_type": "display_data"
    },
    {
     "data": {
      "text/html": [
       "<pre>Finished parsing file /Users/louisemoizan/Documents/dissert_project/topic_model/policies_copy/icy-veins.com.txt</pre>"
      ],
      "text/plain": [
       "Finished parsing file /Users/louisemoizan/Documents/dissert_project/topic_model/policies_copy/icy-veins.com.txt"
      ]
     },
     "metadata": {},
     "output_type": "display_data"
    },
    {
     "data": {
      "text/html": [
       "<pre>Finished parsing file /Users/louisemoizan/Documents/dissert_project/topic_model/policies_copy/kahoot.it.txt</pre>"
      ],
      "text/plain": [
       "Finished parsing file /Users/louisemoizan/Documents/dissert_project/topic_model/policies_copy/kahoot.it.txt"
      ]
     },
     "metadata": {},
     "output_type": "display_data"
    },
    {
     "data": {
      "text/html": [
       "<pre>Finished parsing file /Users/louisemoizan/Documents/dissert_project/topic_model/policies_copy/just-eat.co.uk.txt</pre>"
      ],
      "text/plain": [
       "Finished parsing file /Users/louisemoizan/Documents/dissert_project/topic_model/policies_copy/just-eat.co.uk.txt"
      ]
     },
     "metadata": {},
     "output_type": "display_data"
    },
    {
     "data": {
      "text/html": [
       "<pre>Finished parsing file /Users/louisemoizan/Documents/dissert_project/topic_model/policies_copy/funnyjunk.com.txt</pre>"
      ],
      "text/plain": [
       "Finished parsing file /Users/louisemoizan/Documents/dissert_project/topic_model/policies_copy/funnyjunk.com.txt"
      ]
     },
     "metadata": {},
     "output_type": "display_data"
    },
    {
     "data": {
      "text/html": [
       "<pre>Finished parsing file /Users/louisemoizan/Documents/dissert_project/topic_model/policies_copy/halifax.co.uk.txt</pre>"
      ],
      "text/plain": [
       "Finished parsing file /Users/louisemoizan/Documents/dissert_project/topic_model/policies_copy/halifax.co.uk.txt"
      ]
     },
     "metadata": {},
     "output_type": "display_data"
    },
    {
     "data": {
      "text/html": [
       "<pre>Finished parsing file /Users/louisemoizan/Documents/dissert_project/topic_model/policies_copy/heavy.com.txt</pre>"
      ],
      "text/plain": [
       "Finished parsing file /Users/louisemoizan/Documents/dissert_project/topic_model/policies_copy/heavy.com.txt"
      ]
     },
     "metadata": {},
     "output_type": "display_data"
    },
    {
     "data": {
      "text/html": [
       "<pre>Finished parsing file /Users/louisemoizan/Documents/dissert_project/topic_model/policies_copy/ebay.com.txt</pre>"
      ],
      "text/plain": [
       "Finished parsing file /Users/louisemoizan/Documents/dissert_project/topic_model/policies_copy/ebay.com.txt"
      ]
     },
     "metadata": {},
     "output_type": "display_data"
    },
    {
     "data": {
      "text/html": [
       "<pre>Finished parsing file /Users/louisemoizan/Documents/dissert_project/topic_model/policies_copy/artstation.com.txt</pre>"
      ],
      "text/plain": [
       "Finished parsing file /Users/louisemoizan/Documents/dissert_project/topic_model/policies_copy/artstation.com.txt"
      ]
     },
     "metadata": {},
     "output_type": "display_data"
    },
    {
     "data": {
      "text/html": [
       "<pre>Finished parsing file /Users/louisemoizan/Documents/dissert_project/topic_model/policies_copy/telegraph.co.uk.txt</pre>"
      ],
      "text/plain": [
       "Finished parsing file /Users/louisemoizan/Documents/dissert_project/topic_model/policies_copy/telegraph.co.uk.txt"
      ]
     },
     "metadata": {},
     "output_type": "display_data"
    },
    {
     "data": {
      "text/html": [
       "<pre>Finished parsing file /Users/louisemoizan/Documents/dissert_project/topic_model/policies_copy/xvideos.com.txt</pre>"
      ],
      "text/plain": [
       "Finished parsing file /Users/louisemoizan/Documents/dissert_project/topic_model/policies_copy/xvideos.com.txt"
      ]
     },
     "metadata": {},
     "output_type": "display_data"
    },
    {
     "data": {
      "text/html": [
       "<pre>Finished parsing file /Users/louisemoizan/Documents/dissert_project/topic_model/policies_copy/xhamster.com.txt</pre>"
      ],
      "text/plain": [
       "Finished parsing file /Users/louisemoizan/Documents/dissert_project/topic_model/policies_copy/xhamster.com.txt"
      ]
     },
     "metadata": {},
     "output_type": "display_data"
    },
    {
     "data": {
      "text/html": [
       "<pre>Finished parsing file /Users/louisemoizan/Documents/dissert_project/topic_model/policies_copy/iplt20.com.txt</pre>"
      ],
      "text/plain": [
       "Finished parsing file /Users/louisemoizan/Documents/dissert_project/topic_model/policies_copy/iplt20.com.txt"
      ]
     },
     "metadata": {},
     "output_type": "display_data"
    },
    {
     "data": {
      "text/html": [
       "<pre>Finished parsing file /Users/louisemoizan/Documents/dissert_project/topic_model/policies_copy/canva.com.txt</pre>"
      ],
      "text/plain": [
       "Finished parsing file /Users/louisemoizan/Documents/dissert_project/topic_model/policies_copy/canva.com.txt"
      ]
     },
     "metadata": {},
     "output_type": "display_data"
    },
    {
     "data": {
      "text/html": [
       "<pre>Finished parsing file /Users/louisemoizan/Documents/dissert_project/topic_model/policies_copy/spareroom.co.uk.txt</pre>"
      ],
      "text/plain": [
       "Finished parsing file /Users/louisemoizan/Documents/dissert_project/topic_model/policies_copy/spareroom.co.uk.txt"
      ]
     },
     "metadata": {},
     "output_type": "display_data"
    },
    {
     "data": {
      "text/html": [
       "<pre>Finished parsing file /Users/louisemoizan/Documents/dissert_project/topic_model/policies_copy/ljmu.ac.uk.txt</pre>"
      ],
      "text/plain": [
       "Finished parsing file /Users/louisemoizan/Documents/dissert_project/topic_model/policies_copy/ljmu.ac.uk.txt"
      ]
     },
     "metadata": {},
     "output_type": "display_data"
    },
    {
     "data": {
      "text/html": [
       "<pre>Finished parsing file /Users/louisemoizan/Documents/dissert_project/topic_model/policies_copy/data.gov.uk.txt</pre>"
      ],
      "text/plain": [
       "Finished parsing file /Users/louisemoizan/Documents/dissert_project/topic_model/policies_copy/data.gov.uk.txt"
      ]
     },
     "metadata": {},
     "output_type": "display_data"
    },
    {
     "data": {
      "text/html": [
       "<pre>Finished parsing file /Users/louisemoizan/Documents/dissert_project/topic_model/policies_copy/wowhead.com.txt</pre>"
      ],
      "text/plain": [
       "Finished parsing file /Users/louisemoizan/Documents/dissert_project/topic_model/policies_copy/wowhead.com.txt"
      ]
     },
     "metadata": {},
     "output_type": "display_data"
    },
    {
     "data": {
      "text/html": [
       "<pre>Finished parsing file /Users/louisemoizan/Documents/dissert_project/topic_model/policies_copy/amazon.co.uk.txt</pre>"
      ],
      "text/plain": [
       "Finished parsing file /Users/louisemoizan/Documents/dissert_project/topic_model/policies_copy/amazon.co.uk.txt"
      ]
     },
     "metadata": {},
     "output_type": "display_data"
    },
    {
     "data": {
      "text/html": [
       "<pre>Finished parsing file /Users/louisemoizan/Documents/dissert_project/topic_model/policies_copy/hp.com.txt</pre>"
      ],
      "text/plain": [
       "Finished parsing file /Users/louisemoizan/Documents/dissert_project/topic_model/policies_copy/hp.com.txt"
      ]
     },
     "metadata": {},
     "output_type": "display_data"
    },
    {
     "data": {
      "text/html": [
       "<pre>Finished parsing file /Users/louisemoizan/Documents/dissert_project/topic_model/policies_copy/moneysavingexpert.com.txt</pre>"
      ],
      "text/plain": [
       "Finished parsing file /Users/louisemoizan/Documents/dissert_project/topic_model/policies_copy/moneysavingexpert.com.txt"
      ]
     },
     "metadata": {},
     "output_type": "display_data"
    },
    {
     "data": {
      "text/html": [
       "<pre>Finished parsing file /Users/louisemoizan/Documents/dissert_project/topic_model/policies_copy/dvsa.gov.uk.txt</pre>"
      ],
      "text/plain": [
       "Finished parsing file /Users/louisemoizan/Documents/dissert_project/topic_model/policies_copy/dvsa.gov.uk.txt"
      ]
     },
     "metadata": {},
     "output_type": "display_data"
    },
    {
     "data": {
      "text/html": [
       "<pre>Finished parsing file /Users/louisemoizan/Documents/dissert_project/topic_model/policies_copy/worldometers.info.txt</pre>"
      ],
      "text/plain": [
       "Finished parsing file /Users/louisemoizan/Documents/dissert_project/topic_model/policies_copy/worldometers.info.txt"
      ]
     },
     "metadata": {},
     "output_type": "display_data"
    },
    {
     "data": {
      "text/html": [
       "<pre>Finished parsing file /Users/louisemoizan/Documents/dissert_project/topic_model/policies_copy/schoolpost.co.uk.txt</pre>"
      ],
      "text/plain": [
       "Finished parsing file /Users/louisemoizan/Documents/dissert_project/topic_model/policies_copy/schoolpost.co.uk.txt"
      ]
     },
     "metadata": {},
     "output_type": "display_data"
    },
    {
     "data": {
      "text/html": [
       "<pre>Finished parsing file /Users/louisemoizan/Documents/dissert_project/topic_model/policies_copy/eatthis.com.txt</pre>"
      ],
      "text/plain": [
       "Finished parsing file /Users/louisemoizan/Documents/dissert_project/topic_model/policies_copy/eatthis.com.txt"
      ]
     },
     "metadata": {},
     "output_type": "display_data"
    },
    {
     "data": {
      "text/html": [
       "<pre>Finished parsing file /Users/louisemoizan/Documents/dissert_project/topic_model/policies_copy/dpreview.com.txt</pre>"
      ],
      "text/plain": [
       "Finished parsing file /Users/louisemoizan/Documents/dissert_project/topic_model/policies_copy/dpreview.com.txt"
      ]
     },
     "metadata": {},
     "output_type": "display_data"
    },
    {
     "data": {
      "text/html": [
       "<pre>Finished parsing file /Users/louisemoizan/Documents/dissert_project/topic_model/policies_copy/grammarly.com.txt</pre>"
      ],
      "text/plain": [
       "Finished parsing file /Users/louisemoizan/Documents/dissert_project/topic_model/policies_copy/grammarly.com.txt"
      ]
     },
     "metadata": {},
     "output_type": "display_data"
    },
    {
     "data": {
      "text/html": [
       "<pre>Finished parsing file /Users/louisemoizan/Documents/dissert_project/topic_model/policies_copy/officialcharts.com.txt</pre>"
      ],
      "text/plain": [
       "Finished parsing file /Users/louisemoizan/Documents/dissert_project/topic_model/policies_copy/officialcharts.com.txt"
      ]
     },
     "metadata": {},
     "output_type": "display_data"
    },
    {
     "data": {
      "text/html": [
       "<pre>Finished parsing file /Users/louisemoizan/Documents/dissert_project/topic_model/policies_copy/diy.com.txt</pre>"
      ],
      "text/plain": [
       "Finished parsing file /Users/louisemoizan/Documents/dissert_project/topic_model/policies_copy/diy.com.txt"
      ]
     },
     "metadata": {},
     "output_type": "display_data"
    },
    {
     "data": {
      "text/html": [
       "<pre>Finished parsing file /Users/louisemoizan/Documents/dissert_project/topic_model/policies_copy/hsbc.co.uk.txt</pre>"
      ],
      "text/plain": [
       "Finished parsing file /Users/louisemoizan/Documents/dissert_project/topic_model/policies_copy/hsbc.co.uk.txt"
      ]
     },
     "metadata": {},
     "output_type": "display_data"
    },
    {
     "data": {
      "text/html": [
       "<pre>Finished parsing file /Users/louisemoizan/Documents/dissert_project/topic_model/policies_copy/audible.co.uk.txt</pre>"
      ],
      "text/plain": [
       "Finished parsing file /Users/louisemoizan/Documents/dissert_project/topic_model/policies_copy/audible.co.uk.txt"
      ]
     },
     "metadata": {},
     "output_type": "display_data"
    },
    {
     "data": {
      "text/html": [
       "<pre>Finished parsing file /Users/louisemoizan/Documents/dissert_project/topic_model/policies_copy/freepik.com.txt</pre>"
      ],
      "text/plain": [
       "Finished parsing file /Users/louisemoizan/Documents/dissert_project/topic_model/policies_copy/freepik.com.txt"
      ]
     },
     "metadata": {},
     "output_type": "display_data"
    },
    {
     "data": {
      "text/html": [
       "<pre>Finished parsing file /Users/louisemoizan/Documents/dissert_project/topic_model/policies_copy/squirt.org.txt</pre>"
      ],
      "text/plain": [
       "Finished parsing file /Users/louisemoizan/Documents/dissert_project/topic_model/policies_copy/squirt.org.txt"
      ]
     },
     "metadata": {},
     "output_type": "display_data"
    },
    {
     "data": {
      "text/html": [
       "<pre>Finished parsing file /Users/louisemoizan/Documents/dissert_project/topic_model/policies_copy/imgur.com.txt</pre>"
      ],
      "text/plain": [
       "Finished parsing file /Users/louisemoizan/Documents/dissert_project/topic_model/policies_copy/imgur.com.txt"
      ]
     },
     "metadata": {},
     "output_type": "display_data"
    },
    {
     "data": {
      "text/html": [
       "<pre>Finished parsing file /Users/louisemoizan/Documents/dissert_project/topic_model/policies_copy/manchestereveningnews.co.uk.txt</pre>"
      ],
      "text/plain": [
       "Finished parsing file /Users/louisemoizan/Documents/dissert_project/topic_model/policies_copy/manchestereveningnews.co.uk.txt"
      ]
     },
     "metadata": {},
     "output_type": "display_data"
    },
    {
     "data": {
      "text/html": [
       "<pre>Finished parsing file /Users/louisemoizan/Documents/dissert_project/topic_model/policies_copy/stackexchange.com.txt</pre>"
      ],
      "text/plain": [
       "Finished parsing file /Users/louisemoizan/Documents/dissert_project/topic_model/policies_copy/stackexchange.com.txt"
      ]
     },
     "metadata": {},
     "output_type": "display_data"
    },
    {
     "data": {
      "text/html": [
       "<pre>Finished parsing file /Users/louisemoizan/Documents/dissert_project/topic_model/policies_copy/imdb.com.txt</pre>"
      ],
      "text/plain": [
       "Finished parsing file /Users/louisemoizan/Documents/dissert_project/topic_model/policies_copy/imdb.com.txt"
      ]
     },
     "metadata": {},
     "output_type": "display_data"
    },
    {
     "data": {
      "text/html": [
       "<pre>Finished parsing file /Users/louisemoizan/Documents/dissert_project/topic_model/policies_copy/animeforce.it.txt</pre>"
      ],
      "text/plain": [
       "Finished parsing file /Users/louisemoizan/Documents/dissert_project/topic_model/policies_copy/animeforce.it.txt"
      ]
     },
     "metadata": {},
     "output_type": "display_data"
    },
    {
     "data": {
      "text/html": [
       "<pre>Finished parsing file /Users/louisemoizan/Documents/dissert_project/topic_model/policies_copy/www.gov.uk.txt</pre>"
      ],
      "text/plain": [
       "Finished parsing file /Users/louisemoizan/Documents/dissert_project/topic_model/policies_copy/www.gov.uk.txt"
      ]
     },
     "metadata": {},
     "output_type": "display_data"
    },
    {
     "data": {
      "text/html": [
       "<pre>Finished parsing file /Users/louisemoizan/Documents/dissert_project/topic_model/policies_copy/plus.net.txt</pre>"
      ],
      "text/plain": [
       "Finished parsing file /Users/louisemoizan/Documents/dissert_project/topic_model/policies_copy/plus.net.txt"
      ]
     },
     "metadata": {},
     "output_type": "display_data"
    },
    {
     "data": {
      "text/html": [
       "<pre>Finished parsing file /Users/louisemoizan/Documents/dissert_project/topic_model/policies_copy/mirror.co.uk.txt</pre>"
      ],
      "text/plain": [
       "Finished parsing file /Users/louisemoizan/Documents/dissert_project/topic_model/policies_copy/mirror.co.uk.txt"
      ]
     },
     "metadata": {},
     "output_type": "display_data"
    },
    {
     "data": {
      "text/html": [
       "<pre>Finished parsing file /Users/louisemoizan/Documents/dissert_project/topic_model/policies_copy/telewebion.com.txt</pre>"
      ],
      "text/plain": [
       "Finished parsing file /Users/louisemoizan/Documents/dissert_project/topic_model/policies_copy/telewebion.com.txt"
      ]
     },
     "metadata": {},
     "output_type": "display_data"
    },
    {
     "data": {
      "text/html": [
       "<pre>Finished parsing file /Users/louisemoizan/Documents/dissert_project/topic_model/policies_copy/padlet.com.txt</pre>"
      ],
      "text/plain": [
       "Finished parsing file /Users/louisemoizan/Documents/dissert_project/topic_model/policies_copy/padlet.com.txt"
      ]
     },
     "metadata": {},
     "output_type": "display_data"
    },
    {
     "data": {
      "text/html": [
       "<pre>Finished parsing file /Users/louisemoizan/Documents/dissert_project/topic_model/policies_copy/linkedin.com.txt</pre>"
      ],
      "text/plain": [
       "Finished parsing file /Users/louisemoizan/Documents/dissert_project/topic_model/policies_copy/linkedin.com.txt"
      ]
     },
     "metadata": {},
     "output_type": "display_data"
    },
    {
     "data": {
      "text/html": [
       "<pre>Finished parsing file /Users/louisemoizan/Documents/dissert_project/topic_model/policies_copy/tesco.com.txt</pre>"
      ],
      "text/plain": [
       "Finished parsing file /Users/louisemoizan/Documents/dissert_project/topic_model/policies_copy/tesco.com.txt"
      ]
     },
     "metadata": {},
     "output_type": "display_data"
    },
    {
     "data": {
      "text/html": [
       "<pre>Finished parsing file /Users/louisemoizan/Documents/dissert_project/topic_model/policies_copy/ria.ru.txt</pre>"
      ],
      "text/plain": [
       "Finished parsing file /Users/louisemoizan/Documents/dissert_project/topic_model/policies_copy/ria.ru.txt"
      ]
     },
     "metadata": {},
     "output_type": "display_data"
    },
    {
     "data": {
      "text/html": [
       "<pre>Finished parsing file /Users/louisemoizan/Documents/dissert_project/topic_model/policies_copy/twinkl.co.uk.txt</pre>"
      ],
      "text/plain": [
       "Finished parsing file /Users/louisemoizan/Documents/dissert_project/topic_model/policies_copy/twinkl.co.uk.txt"
      ]
     },
     "metadata": {},
     "output_type": "display_data"
    },
    {
     "data": {
      "text/html": [
       "<pre>Finished parsing file /Users/louisemoizan/Documents/dissert_project/topic_model/policies_copy/dailyrecord.co.uk.txt</pre>"
      ],
      "text/plain": [
       "Finished parsing file /Users/louisemoizan/Documents/dissert_project/topic_model/policies_copy/dailyrecord.co.uk.txt"
      ]
     },
     "metadata": {},
     "output_type": "display_data"
    },
    {
     "data": {
      "text/html": [
       "<pre>Finished parsing file /Users/louisemoizan/Documents/dissert_project/topic_model/policies_copy/google.com.tr.txt</pre>"
      ],
      "text/plain": [
       "Finished parsing file /Users/louisemoizan/Documents/dissert_project/topic_model/policies_copy/google.com.tr.txt"
      ]
     },
     "metadata": {},
     "output_type": "display_data"
    },
    {
     "data": {
      "text/html": [
       "<pre>Finished parsing file /Users/louisemoizan/Documents/dissert_project/topic_model/policies_copy/troudigital.com.txt</pre>"
      ],
      "text/plain": [
       "Finished parsing file /Users/louisemoizan/Documents/dissert_project/topic_model/policies_copy/troudigital.com.txt"
      ]
     },
     "metadata": {},
     "output_type": "display_data"
    },
    {
     "data": {
      "text/html": [
       "<pre>Finished parsing file /Users/louisemoizan/Documents/dissert_project/topic_model/policies_copy/google.com.ua.txt</pre>"
      ],
      "text/plain": [
       "Finished parsing file /Users/louisemoizan/Documents/dissert_project/topic_model/policies_copy/google.com.ua.txt"
      ]
     },
     "metadata": {},
     "output_type": "display_data"
    },
    {
     "data": {
      "text/html": [
       "<pre>Finished parsing file /Users/louisemoizan/Documents/dissert_project/topic_model/policies_copy/google.ru.txt</pre>"
      ],
      "text/plain": [
       "Finished parsing file /Users/louisemoizan/Documents/dissert_project/topic_model/policies_copy/google.ru.txt"
      ]
     },
     "metadata": {},
     "output_type": "display_data"
    },
    {
     "data": {
      "text/html": [
       "<pre>Finished parsing file /Users/louisemoizan/Documents/dissert_project/topic_model/policies_copy/duckduckgo.com.txt</pre>"
      ],
      "text/plain": [
       "Finished parsing file /Users/louisemoizan/Documents/dissert_project/topic_model/policies_copy/duckduckgo.com.txt"
      ]
     },
     "metadata": {},
     "output_type": "display_data"
    },
    {
     "data": {
      "text/html": [
       "<pre>Finished parsing file /Users/louisemoizan/Documents/dissert_project/topic_model/policies_copy/themanc.com.txt</pre>"
      ],
      "text/plain": [
       "Finished parsing file /Users/louisemoizan/Documents/dissert_project/topic_model/policies_copy/themanc.com.txt"
      ]
     },
     "metadata": {},
     "output_type": "display_data"
    },
    {
     "data": {
      "text/html": [
       "<pre>Finished parsing file /Users/louisemoizan/Documents/dissert_project/topic_model/policies_copy/wickes.co.uk.txt</pre>"
      ],
      "text/plain": [
       "Finished parsing file /Users/louisemoizan/Documents/dissert_project/topic_model/policies_copy/wickes.co.uk.txt"
      ]
     },
     "metadata": {},
     "output_type": "display_data"
    },
    {
     "data": {
      "text/html": [
       "<pre>Finished parsing file /Users/louisemoizan/Documents/dissert_project/topic_model/policies_copy/digikala.com.txt</pre>"
      ],
      "text/plain": [
       "Finished parsing file /Users/louisemoizan/Documents/dissert_project/topic_model/policies_copy/digikala.com.txt"
      ]
     },
     "metadata": {},
     "output_type": "display_data"
    },
    {
     "data": {
      "text/html": [
       "<pre>Finished parsing file /Users/louisemoizan/Documents/dissert_project/topic_model/policies_copy/tax.service.gov.uk.txt</pre>"
      ],
      "text/plain": [
       "Finished parsing file /Users/louisemoizan/Documents/dissert_project/topic_model/policies_copy/tax.service.gov.uk.txt"
      ]
     },
     "metadata": {},
     "output_type": "display_data"
    },
    {
     "data": {
      "text/html": [
       "<pre>Finished parsing file /Users/louisemoizan/Documents/dissert_project/topic_model/policies_copy/teddyfeed.com.txt</pre>"
      ],
      "text/plain": [
       "Finished parsing file /Users/louisemoizan/Documents/dissert_project/topic_model/policies_copy/teddyfeed.com.txt"
      ]
     },
     "metadata": {},
     "output_type": "display_data"
    },
    {
     "data": {
      "text/html": [
       "<pre>Finished parsing file /Users/louisemoizan/Documents/dissert_project/topic_model/policies_copy/advideoblock.com.txt</pre>"
      ],
      "text/plain": [
       "Finished parsing file /Users/louisemoizan/Documents/dissert_project/topic_model/policies_copy/advideoblock.com.txt"
      ]
     },
     "metadata": {},
     "output_type": "display_data"
    },
    {
     "data": {
      "text/html": [
       "<pre>Finished parsing file /Users/louisemoizan/Documents/dissert_project/topic_model/policies_copy/natwest.com.txt</pre>"
      ],
      "text/plain": [
       "Finished parsing file /Users/louisemoizan/Documents/dissert_project/topic_model/policies_copy/natwest.com.txt"
      ]
     },
     "metadata": {},
     "output_type": "display_data"
    },
    {
     "data": {
      "text/html": [
       "<pre>Finished parsing file /Users/louisemoizan/Documents/dissert_project/topic_model/policies_copy/hotukdeals.com.txt</pre>"
      ],
      "text/plain": [
       "Finished parsing file /Users/louisemoizan/Documents/dissert_project/topic_model/policies_copy/hotukdeals.com.txt"
      ]
     },
     "metadata": {},
     "output_type": "display_data"
    },
    {
     "data": {
      "text/html": [
       "<pre>Finished parsing file /Users/louisemoizan/Documents/dissert_project/topic_model/policies_copy/mobalytics.gg.txt</pre>"
      ],
      "text/plain": [
       "Finished parsing file /Users/louisemoizan/Documents/dissert_project/topic_model/policies_copy/mobalytics.gg.txt"
      ]
     },
     "metadata": {},
     "output_type": "display_data"
    },
    {
     "data": {
      "text/html": [
       "<pre>Finished parsing file /Users/louisemoizan/Documents/dissert_project/topic_model/policies_copy/nvidia.com.txt</pre>"
      ],
      "text/plain": [
       "Finished parsing file /Users/louisemoizan/Documents/dissert_project/topic_model/policies_copy/nvidia.com.txt"
      ]
     },
     "metadata": {},
     "output_type": "display_data"
    },
    {
     "data": {
      "text/html": [
       "<pre>Finished parsing file /Users/louisemoizan/Documents/dissert_project/topic_model/policies_copy/bankofscotland.co.uk.txt</pre>"
      ],
      "text/plain": [
       "Finished parsing file /Users/louisemoizan/Documents/dissert_project/topic_model/policies_copy/bankofscotland.co.uk.txt"
      ]
     },
     "metadata": {},
     "output_type": "display_data"
    },
    {
     "data": {
      "text/html": [
       "<pre>Finished parsing file /Users/louisemoizan/Documents/dissert_project/topic_model/policies_copy/mymail.co.uk.txt</pre>"
      ],
      "text/plain": [
       "Finished parsing file /Users/louisemoizan/Documents/dissert_project/topic_model/policies_copy/mymail.co.uk.txt"
      ]
     },
     "metadata": {},
     "output_type": "display_data"
    },
    {
     "data": {
      "text/html": [
       "<pre>Finished parsing file /Users/louisemoizan/Documents/dissert_project/topic_model/policies_copy/ulster.ac.uk.txt</pre>"
      ],
      "text/plain": [
       "Finished parsing file /Users/louisemoizan/Documents/dissert_project/topic_model/policies_copy/ulster.ac.uk.txt"
      ]
     },
     "metadata": {},
     "output_type": "display_data"
    },
    {
     "data": {
      "text/html": [
       "<pre>Finished parsing file /Users/louisemoizan/Documents/dissert_project/topic_model/policies_copy/gtxgaming.co.uk.txt</pre>"
      ],
      "text/plain": [
       "Finished parsing file /Users/louisemoizan/Documents/dissert_project/topic_model/policies_copy/gtxgaming.co.uk.txt"
      ]
     },
     "metadata": {},
     "output_type": "display_data"
    },
    {
     "data": {
      "text/html": [
       "<pre>Finished parsing file /Users/louisemoizan/Documents/dissert_project/topic_model/policies_copy/theguardian.com.txt</pre>"
      ],
      "text/plain": [
       "Finished parsing file /Users/louisemoizan/Documents/dissert_project/topic_model/policies_copy/theguardian.com.txt"
      ]
     },
     "metadata": {},
     "output_type": "display_data"
    },
    {
     "data": {
      "text/html": [
       "<pre>Finished parsing file /Users/louisemoizan/Documents/dissert_project/topic_model/policies_copy/probuilds.net.txt</pre>"
      ],
      "text/plain": [
       "Finished parsing file /Users/louisemoizan/Documents/dissert_project/topic_model/policies_copy/probuilds.net.txt"
      ]
     },
     "metadata": {},
     "output_type": "display_data"
    },
    {
     "data": {
      "text/html": [
       "<pre>Finished parsing file /Users/louisemoizan/Documents/dissert_project/topic_model/policies_copy/youm7.com.txt</pre>"
      ],
      "text/plain": [
       "Finished parsing file /Users/louisemoizan/Documents/dissert_project/topic_model/policies_copy/youm7.com.txt"
      ]
     },
     "metadata": {},
     "output_type": "display_data"
    },
    {
     "data": {
      "text/html": [
       "<pre>Finished parsing file /Users/louisemoizan/Documents/dissert_project/topic_model/policies_copy/santander.co.uk.txt</pre>"
      ],
      "text/plain": [
       "Finished parsing file /Users/louisemoizan/Documents/dissert_project/topic_model/policies_copy/santander.co.uk.txt"
      ]
     },
     "metadata": {},
     "output_type": "display_data"
    },
    {
     "data": {
      "text/html": [
       "<pre>Finished parsing file /Users/louisemoizan/Documents/dissert_project/topic_model/policies_copy/instagram.com.txt</pre>"
      ],
      "text/plain": [
       "Finished parsing file /Users/louisemoizan/Documents/dissert_project/topic_model/policies_copy/instagram.com.txt"
      ]
     },
     "metadata": {},
     "output_type": "display_data"
    },
    {
     "data": {
      "text/html": [
       "<pre>Finished parsing file /Users/louisemoizan/Documents/dissert_project/topic_model/policies_copy/u.gg.txt</pre>"
      ],
      "text/plain": [
       "Finished parsing file /Users/louisemoizan/Documents/dissert_project/topic_model/policies_copy/u.gg.txt"
      ]
     },
     "metadata": {},
     "output_type": "display_data"
    },
    {
     "data": {
      "text/html": [
       "<pre>Finished parsing file /Users/louisemoizan/Documents/dissert_project/topic_model/policies_copy/healthline.com.txt</pre>"
      ],
      "text/plain": [
       "Finished parsing file /Users/louisemoizan/Documents/dissert_project/topic_model/policies_copy/healthline.com.txt"
      ]
     },
     "metadata": {},
     "output_type": "display_data"
    },
    {
     "data": {
      "text/html": [
       "<pre>Finished parsing file /Users/louisemoizan/Documents/dissert_project/topic_model/policies_copy/myvue.com.txt</pre>"
      ],
      "text/plain": [
       "Finished parsing file /Users/louisemoizan/Documents/dissert_project/topic_model/policies_copy/myvue.com.txt"
      ]
     },
     "metadata": {},
     "output_type": "display_data"
    },
    {
     "data": {
      "text/html": [
       "<pre>Finished parsing file /Users/louisemoizan/Documents/dissert_project/topic_model/policies_copy/discordapp.com.txt</pre>"
      ],
      "text/plain": [
       "Finished parsing file /Users/louisemoizan/Documents/dissert_project/topic_model/policies_copy/discordapp.com.txt"
      ]
     },
     "metadata": {},
     "output_type": "display_data"
    },
    {
     "data": {
      "text/html": [
       "<pre>Finished parsing file /Users/louisemoizan/Documents/dissert_project/topic_model/policies_copy/britishairways.com.txt</pre>"
      ],
      "text/plain": [
       "Finished parsing file /Users/louisemoizan/Documents/dissert_project/topic_model/policies_copy/britishairways.com.txt"
      ]
     },
     "metadata": {},
     "output_type": "display_data"
    },
    {
     "data": {
      "text/html": [
       "<pre>Finished parsing file /Users/louisemoizan/Documents/dissert_project/topic_model/policies_copy/dailystar.co.uk.txt</pre>"
      ],
      "text/plain": [
       "Finished parsing file /Users/louisemoizan/Documents/dissert_project/topic_model/policies_copy/dailystar.co.uk.txt"
      ]
     },
     "metadata": {},
     "output_type": "display_data"
    },
    {
     "data": {
      "text/html": [
       "<pre>Finished parsing file /Users/louisemoizan/Documents/dissert_project/topic_model/policies_copy/shutterstock.com.txt</pre>"
      ],
      "text/plain": [
       "Finished parsing file /Users/louisemoizan/Documents/dissert_project/topic_model/policies_copy/shutterstock.com.txt"
      ]
     },
     "metadata": {},
     "output_type": "display_data"
    },
    {
     "data": {
      "text/html": [
       "<pre>Finished parsing file /Users/louisemoizan/Documents/dissert_project/topic_model/policies_copy/crunchyroll.com.txt</pre>"
      ],
      "text/plain": [
       "Finished parsing file /Users/louisemoizan/Documents/dissert_project/topic_model/policies_copy/crunchyroll.com.txt"
      ]
     },
     "metadata": {},
     "output_type": "display_data"
    },
    {
     "data": {
      "text/html": [
       "<pre>Finished parsing file /Users/louisemoizan/Documents/dissert_project/topic_model/policies_copy/mirriad.com.txt</pre>"
      ],
      "text/plain": [
       "Finished parsing file /Users/louisemoizan/Documents/dissert_project/topic_model/policies_copy/mirriad.com.txt"
      ]
     },
     "metadata": {},
     "output_type": "display_data"
    },
    {
     "data": {
      "text/html": [
       "<pre>Finished parsing file /Users/louisemoizan/Documents/dissert_project/topic_model/policies_copy/whiterosemaths.com.txt</pre>"
      ],
      "text/plain": [
       "Finished parsing file /Users/louisemoizan/Documents/dissert_project/topic_model/policies_copy/whiterosemaths.com.txt"
      ]
     },
     "metadata": {},
     "output_type": "display_data"
    },
    {
     "data": {
      "text/html": [
       "<pre>Finished parsing file /Users/louisemoizan/Documents/dissert_project/topic_model/policies_copy/colorful.zone.txt</pre>"
      ],
      "text/plain": [
       "Finished parsing file /Users/louisemoizan/Documents/dissert_project/topic_model/policies_copy/colorful.zone.txt"
      ]
     },
     "metadata": {},
     "output_type": "display_data"
    },
    {
     "data": {
      "text/html": [
       "<pre>Finished parsing file /Users/louisemoizan/Documents/dissert_project/topic_model/policies_copy/msn.com.txt</pre>"
      ],
      "text/plain": [
       "Finished parsing file /Users/louisemoizan/Documents/dissert_project/topic_model/policies_copy/msn.com.txt"
      ]
     },
     "metadata": {},
     "output_type": "display_data"
    },
    {
     "data": {
      "text/html": [
       "<pre>Finished parsing file /Users/louisemoizan/Documents/dissert_project/topic_model/policies_copy/ixxx.com.txt</pre>"
      ],
      "text/plain": [
       "Finished parsing file /Users/louisemoizan/Documents/dissert_project/topic_model/policies_copy/ixxx.com.txt"
      ]
     },
     "metadata": {},
     "output_type": "display_data"
    },
    {
     "data": {
      "text/html": [
       "<pre>Finished parsing file /Users/louisemoizan/Documents/dissert_project/topic_model/policies_copy/netflix.com.txt</pre>"
      ],
      "text/plain": [
       "Finished parsing file /Users/louisemoizan/Documents/dissert_project/topic_model/policies_copy/netflix.com.txt"
      ]
     },
     "metadata": {},
     "output_type": "display_data"
    },
    {
     "data": {
      "text/html": [
       "<pre>Finished parsing file /Users/louisemoizan/Documents/dissert_project/topic_model/policies_copy/parentpay.com.txt</pre>"
      ],
      "text/plain": [
       "Finished parsing file /Users/louisemoizan/Documents/dissert_project/topic_model/policies_copy/parentpay.com.txt"
      ]
     },
     "metadata": {},
     "output_type": "display_data"
    },
    {
     "data": {
      "text/html": [
       "<pre>Finished parsing file /Users/louisemoizan/Documents/dissert_project/topic_model/policies_copy/vimeo.com.txt</pre>"
      ],
      "text/plain": [
       "Finished parsing file /Users/louisemoizan/Documents/dissert_project/topic_model/policies_copy/vimeo.com.txt"
      ]
     },
     "metadata": {},
     "output_type": "display_data"
    },
    {
     "data": {
      "text/html": [
       "<pre>Finished parsing file /Users/louisemoizan/Documents/dissert_project/topic_model/policies_copy/roblox.com.txt</pre>"
      ],
      "text/plain": [
       "Finished parsing file /Users/louisemoizan/Documents/dissert_project/topic_model/policies_copy/roblox.com.txt"
      ]
     },
     "metadata": {},
     "output_type": "display_data"
    },
    {
     "data": {
      "text/html": [
       "<pre>Finished parsing file /Users/louisemoizan/Documents/dissert_project/topic_model/policies_copy/livein.care.txt</pre>"
      ],
      "text/plain": [
       "Finished parsing file /Users/louisemoizan/Documents/dissert_project/topic_model/policies_copy/livein.care.txt"
      ]
     },
     "metadata": {},
     "output_type": "display_data"
    },
    {
     "data": {
      "text/html": [
       "<pre>Finished parsing file /Users/louisemoizan/Documents/dissert_project/topic_model/policies_copy/disneyplus.com.txt</pre>"
      ],
      "text/plain": [
       "Finished parsing file /Users/louisemoizan/Documents/dissert_project/topic_model/policies_copy/disneyplus.com.txt"
      ]
     },
     "metadata": {},
     "output_type": "display_data"
    },
    {
     "data": {
      "text/html": [
       "<pre>Finished parsing file /Users/louisemoizan/Documents/dissert_project/topic_model/policies_copy/primelocation.com.txt</pre>"
      ],
      "text/plain": [
       "Finished parsing file /Users/louisemoizan/Documents/dissert_project/topic_model/policies_copy/primelocation.com.txt"
      ]
     },
     "metadata": {},
     "output_type": "display_data"
    },
    {
     "data": {
      "text/html": [
       "<pre>Finished parsing file /Users/louisemoizan/Documents/dissert_project/topic_model/policies_copy/bbcgoodfood.com.txt</pre>"
      ],
      "text/plain": [
       "Finished parsing file /Users/louisemoizan/Documents/dissert_project/topic_model/policies_copy/bbcgoodfood.com.txt"
      ]
     },
     "metadata": {},
     "output_type": "display_data"
    },
    {
     "data": {
      "text/html": [
       "<pre>Finished parsing file /Users/louisemoizan/Documents/dissert_project/topic_model/policies_copy/pornhub.com.txt</pre>"
      ],
      "text/plain": [
       "Finished parsing file /Users/louisemoizan/Documents/dissert_project/topic_model/policies_copy/pornhub.com.txt"
      ]
     },
     "metadata": {},
     "output_type": "display_data"
    },
    {
     "data": {
      "text/html": [
       "<pre>Finished parsing file /Users/louisemoizan/Documents/dissert_project/topic_model/policies_copy/sportsdirect.com.txt</pre>"
      ],
      "text/plain": [
       "Finished parsing file /Users/louisemoizan/Documents/dissert_project/topic_model/policies_copy/sportsdirect.com.txt"
      ]
     },
     "metadata": {},
     "output_type": "display_data"
    },
    {
     "data": {
      "text/html": [
       "<pre>Finished parsing file /Users/louisemoizan/Documents/dissert_project/topic_model/policies_copy/viz.com.txt</pre>"
      ],
      "text/plain": [
       "Finished parsing file /Users/louisemoizan/Documents/dissert_project/topic_model/policies_copy/viz.com.txt"
      ]
     },
     "metadata": {},
     "output_type": "display_data"
    },
    {
     "data": {
      "text/html": [
       "<pre>Finished parsing file /Users/louisemoizan/Documents/dissert_project/topic_model/policies_copy/indeed.com.txt</pre>"
      ],
      "text/plain": [
       "Finished parsing file /Users/louisemoizan/Documents/dissert_project/topic_model/policies_copy/indeed.com.txt"
      ]
     },
     "metadata": {},
     "output_type": "display_data"
    },
    {
     "data": {
      "text/html": [
       "<pre>Finished parsing file /Users/louisemoizan/Documents/dissert_project/topic_model/policies_copy/pinimg.com.txt</pre>"
      ],
      "text/plain": [
       "Finished parsing file /Users/louisemoizan/Documents/dissert_project/topic_model/policies_copy/pinimg.com.txt"
      ]
     },
     "metadata": {},
     "output_type": "display_data"
    },
    {
     "data": {
      "text/html": [
       "<pre>Finished parsing file /Users/louisemoizan/Documents/dissert_project/topic_model/policies_copy/royalmail.com.txt</pre>"
      ],
      "text/plain": [
       "Finished parsing file /Users/louisemoizan/Documents/dissert_project/topic_model/policies_copy/royalmail.com.txt"
      ]
     },
     "metadata": {},
     "output_type": "display_data"
    },
    {
     "data": {
      "text/html": [
       "<pre>Finished parsing file /Users/louisemoizan/Documents/dissert_project/topic_model/policies_copy/sky.com.txt</pre>"
      ],
      "text/plain": [
       "Finished parsing file /Users/louisemoizan/Documents/dissert_project/topic_model/policies_copy/sky.com.txt"
      ]
     },
     "metadata": {},
     "output_type": "display_data"
    },
    {
     "data": {
      "text/html": [
       "<pre>Finished parsing file /Users/louisemoizan/Documents/dissert_project/topic_model/policies_copy/dndbeyond.com.txt</pre>"
      ],
      "text/plain": [
       "Finished parsing file /Users/louisemoizan/Documents/dissert_project/topic_model/policies_copy/dndbeyond.com.txt"
      ]
     },
     "metadata": {},
     "output_type": "display_data"
    },
    {
     "data": {
      "text/html": [
       "<pre>Finished parsing file /Users/louisemoizan/Documents/dissert_project/topic_model/policies_copy/largepornfilms.com.txt</pre>"
      ],
      "text/plain": [
       "Finished parsing file /Users/louisemoizan/Documents/dissert_project/topic_model/policies_copy/largepornfilms.com.txt"
      ]
     },
     "metadata": {},
     "output_type": "display_data"
    },
    {
     "data": {
      "text/html": [
       "<pre>Finished parsing file /Users/louisemoizan/Documents/dissert_project/topic_model/policies_copy/speedtest.net.txt</pre>"
      ],
      "text/plain": [
       "Finished parsing file /Users/louisemoizan/Documents/dissert_project/topic_model/policies_copy/speedtest.net.txt"
      ]
     },
     "metadata": {},
     "output_type": "display_data"
    },
    {
     "data": {
      "text/html": [
       "<pre>Finished parsing file /Users/louisemoizan/Documents/dissert_project/topic_model/policies_copy/ghanaweb.com.txt</pre>"
      ],
      "text/plain": [
       "Finished parsing file /Users/louisemoizan/Documents/dissert_project/topic_model/policies_copy/ghanaweb.com.txt"
      ]
     },
     "metadata": {},
     "output_type": "display_data"
    },
    {
     "data": {
      "text/html": [
       "<pre>Finished parsing file /Users/louisemoizan/Documents/dissert_project/topic_model/policies_copy/vodafone.co.uk.txt</pre>"
      ],
      "text/plain": [
       "Finished parsing file /Users/louisemoizan/Documents/dissert_project/topic_model/policies_copy/vodafone.co.uk.txt"
      ]
     },
     "metadata": {},
     "output_type": "display_data"
    },
    {
     "data": {
      "text/html": [
       "<pre>Parsing completed. Parsed 72986 lines in 1.03624 secs.</pre>"
      ],
      "text/plain": [
       "Parsing completed. Parsed 72986 lines in 1.03624 secs."
      ]
     },
     "metadata": {},
     "output_type": "display_data"
    }
   ],
   "source": [
    "import turicreate as tc\n",
    "\n",
    "docs = tc.SFrame.read_csv('policies_copy/*.txt', header=False, delimiter='\\c')"
   ]
  },
  {
   "cell_type": "code",
   "execution_count": 3,
   "id": "99715a19",
   "metadata": {},
   "outputs": [
    {
     "name": "stdout",
     "output_type": "stream",
     "text": [
      "[{'privacy': 1.0}, {'menu': 1.0}, {'branches': 1.0}, {'sign': 1.0}, {'trolley': 1.0}, {'branch': 1.0, 'set': 1.0}, {'register': 1.0}, {'lists': 1.0}, {}, {'order': 1.0, 'quick': 1.0}, {'departments': 1.0}, {'brands': 1.0, 'trade': 1.0, 'top': 1.0}, {'brands': 1.0, 'top': 1.0}, {}, {'view': 1.0}, {'locator': 1.0, 'branch': 1.0}, {'sign': 1.0}, {'trolley': 2.0}, {'trolley': 1.0}, {'branch': 1.0, 'set': 1.0}, {'order': 1.0, 'quick': 1.0}, {'departments': 1.0}, {'sealants': 1.0, 'adhesives': 1.0}, {'sealants': 1.0, 'adhesives': 1.0}, {'adhesives': 1.0}, {'adhesive': 1.0, 'grab': 1.0}, {'glue': 1.0, 'wood': 1.0}, {'glue': 1.0, 'adhesives': 1.0, 'general': 1.0}, {'adhesive': 1.0, 'wallpaper': 1.0}, {'sealants': 1.0}, {'sealants': 1.0, 'roofing': 1.0, 'building': 1.0}, {'sealants': 1.0, 'sanitary': 1.0}, {'sealants': 1.0, 'general': 1.0}, {'sealants': 1.0, 'heat': 1.0, 'fire': 1.0}, {'foam': 1.0, 'expanding': 1.0}, {'tapes': 1.0}, {'duct': 1.0, 'tape': 1.0, 'cloth': 1.0}, {'tape': 1.0, 'masking': 1.0}, {'tape': 1.0, 'hazard': 1.0, 'safety': 1.0}, {'board': 1.0, 'tape': 1.0, 'plaster': 1.0}, {'tape': 1.0, 'repair': 1.0, 'fixing': 1.0}, {'caulks': 1.0}, {'tools': 1.0, 'foam': 1.0, 'sealant': 1.0}, {'automotive': 1.0}, {'automotive': 1.0}, {'tools': 1.0, 'automotive': 1.0}, {'tools': 1.0, 'mechanics': 1.0}, {'ratchets': 1.0, 'wrenches': 1.0, 'spanners': 1.0}, {'sockets': 1.0}, {'keys': 1.0, 'hex': 1.0}, {'tools': 1.0, 'bodywork': 1.0}, {'inflators': 1.0, 'tyre': 1.0}, {'testers': 1.0, 'electrical': 1.0}, {'equipment': 1.0, 'garage': 1.0}, {'compressors': 1.0}, {'winches': 1.0, 'stands': 1.0, 'jacks': 1.0}, {'sprays': 1.0, 'lubricants': 1.0}, {'cleaning': 1.0, 'care': 1.0, 'car': 1.0}, {'breakdown': 1.0, 'vehicle': 1.0}, {'chargers': 1.0, 'starting': 1.0, 'battery': 1.0}, {'towing': 1.0}, {'funnels': 1.0, 'cans': 1.0, 'fuel': 1.0}, {'accessories': 1.0, 'vehicle': 1.0}, {'racks': 1.0, 'roof': 1.0}, {'ropes': 1.0, 'straps': 1.0}, {'chargers': 1.0, 'ev': 1.0}, {'security': 1.0, 'safety': 1.0}, {'accessories': 1.0, 'electrical': 1.0, 'usb': 1.0}, {'inverters': 1.0, 'power': 1.0}, {'accessories': 1.0, 'interior': 1.0}, {'additives': 1.0, 'motor': 1.0}, {'bulbs': 1.0, 'car': 1.0}, {'bathrooms': 1.0}, {'bathrooms': 1.0}, {'taps': 1.0, 'bathroom': 1.0}, {'pillar': 1.0, 'taps': 1.0, 'basin': 1.0}, {'mixer': 1.0, 'taps': 1.0, 'basin': 1.0}, {'pillar': 1.0, 'taps': 1.0, 'bath': 1.0}, {'filler': 1.0, 'taps': 1.0, 'bath': 1.0}, {'mixer': 1.0, 'shower': 1.0, 'taps': 1.0, 'bath': 1.0}, {'taps': 1.0, 'basin': 1.0, 'cloakroom': 1.0}, {'taps': 1.0, 'commercial': 1.0}, {'spares': 1.0, 'kits': 1.0, 'reviver': 1.0}, {'showers': 1.0}, {'showers': 1.0, 'mixer': 1.0}, {'showers': 1.0, 'electric': 1.0}, {'showers': 1.0, 'power': 1.0}, {'showers': 1.0, 'digital': 1.0}, {'accessories': 1.0, 'shower': 1.0}, {'heads': 1.0, 'shower': 1.0}, {'hoses': 1.0, 'shower': 1.0}, {'kits': 1.0, 'rails': 1.0, 'riser': 1.0, 'shower': 1.0}, {'valves': 1.0, 'shower': 1.0}, {'rails': 1.0, 'curtains': 1.0, 'shower': 1.0}, {'lighting': 1.0, 'bathroom': 1.0}, {'lights': 1.0, 'wall': 1.0, 'bathroom': 1.0}, {'lights': 1.0, 'ceiling': 1.0, 'bathroom': 1.0}, {'accessories': 1.0, 'bathroom': 1.0}, {'dryers': 1.0, 'hand': 1.0}, {'storage': 1.0, 'roll': 1.0, 'holders': 1.0, 'toilet': 1.0}, ... ]\n"
     ]
    }
   ],
   "source": [
    "# Remove stop words and convert to bag of words\n",
    "docs = tc.text_analytics.count_words(docs['X1'])\n",
    "docs = docs.dict_trim_by_keys(tc.text_analytics.stop_words(), exclude=True)\n",
    "\n",
    "print(docs[:200])"
   ]
  },
  {
   "cell_type": "code",
   "execution_count": 4,
   "id": "8b6f877a",
   "metadata": {},
   "outputs": [
    {
     "data": {
      "text/html": [
       "<pre>Learning a topic model</pre>"
      ],
      "text/plain": [
       "Learning a topic model"
      ]
     },
     "metadata": {},
     "output_type": "display_data"
    },
    {
     "data": {
      "text/html": [
       "<pre>       Number of documents     72986</pre>"
      ],
      "text/plain": [
       "       Number of documents     72986"
      ]
     },
     "metadata": {},
     "output_type": "display_data"
    },
    {
     "data": {
      "text/html": [
       "<pre>           Vocabulary size     38657</pre>"
      ],
      "text/plain": [
       "           Vocabulary size     38657"
      ]
     },
     "metadata": {},
     "output_type": "display_data"
    },
    {
     "data": {
      "text/html": [
       "<pre>   Running collapsed Gibbs sampling</pre>"
      ],
      "text/plain": [
       "   Running collapsed Gibbs sampling"
      ]
     },
     "metadata": {},
     "output_type": "display_data"
    },
    {
     "data": {
      "text/html": [
       "<pre>+-----------+---------------+----------------+-----------------+</pre>"
      ],
      "text/plain": [
       "+-----------+---------------+----------------+-----------------+"
      ]
     },
     "metadata": {},
     "output_type": "display_data"
    },
    {
     "data": {
      "text/html": [
       "<pre>| Iteration | Elapsed Time  | Tokens/Second  | Est. Perplexity |</pre>"
      ],
      "text/plain": [
       "| Iteration | Elapsed Time  | Tokens/Second  | Est. Perplexity |"
      ]
     },
     "metadata": {},
     "output_type": "display_data"
    },
    {
     "data": {
      "text/html": [
       "<pre>+-----------+---------------+----------------+-----------------+</pre>"
      ],
      "text/plain": [
       "+-----------+---------------+----------------+-----------------+"
      ]
     },
     "metadata": {},
     "output_type": "display_data"
    },
    {
     "data": {
      "text/html": [
       "<pre>| 10        | 837.948ms     | 8.30461e+06    | 0               |</pre>"
      ],
      "text/plain": [
       "| 10        | 837.948ms     | 8.30461e+06    | 0               |"
      ]
     },
     "metadata": {},
     "output_type": "display_data"
    },
    {
     "data": {
      "text/html": [
       "<pre>+-----------+---------------+----------------+-----------------+</pre>"
      ],
      "text/plain": [
       "+-----------+---------------+----------------+-----------------+"
      ]
     },
     "metadata": {},
     "output_type": "display_data"
    }
   ],
   "source": [
    "# Learn topic model\n",
    "model = tc.topic_model.create(docs)"
   ]
  },
  {
   "cell_type": "code",
   "execution_count": 5,
   "id": "baf8c9cf",
   "metadata": {},
   "outputs": [
    {
     "name": "stdout",
     "output_type": "stream",
     "text": [
      "+-------+-------------+----------------------+\n",
      "| topic |     word    |        score         |\n",
      "+-------+-------------+----------------------+\n",
      "|   0   |    device   | 0.05954405989119464  |\n",
      "|   0   |   cookies   | 0.02649432036569405  |\n",
      "|   0   |    online   | 0.024911656782782756 |\n",
      "|   0   |    policy   | 0.01307492914588315  |\n",
      "|   0   |   support   | 0.01239664475320688  |\n",
      "|   1   | information | 0.06995778014665938  |\n",
      "|   1   |   privacy   | 0.04735079929041083  |\n",
      "|   1   |   service   | 0.040874942824255085 |\n",
      "|   1   |   products  | 0.03595953369934168  |\n",
      "|   1   |   cookies   | 0.02651882728482546  |\n",
      "+-------+-------------+----------------------+\n",
      "[50 rows x 3 columns]\n",
      "Note: Only the head of the SFrame is printed.\n",
      "You can use print_rows(num_rows=m, num_columns=n) to print more rows and columns.\n"
     ]
    }
   ],
   "source": [
    "print(model.get_topics())"
   ]
  },
  {
   "cell_type": "code",
   "execution_count": 6,
   "id": "f4635554",
   "metadata": {},
   "outputs": [
    {
     "data": {
      "text/plain": [
       "array('d', [0.003065067930495794, 7.972466290422784e-07, 0.0010344902746180838, 0.03873647248022536, 2.485992235685954e-05, 0.021005786443785642])"
      ]
     },
     "execution_count": 6,
     "metadata": {},
     "output_type": "execute_result"
    }
   ],
   "source": [
    "model._get('topics')['topic_probabilities'][0]"
   ]
  },
  {
   "cell_type": "code",
   "execution_count": 7,
   "id": "9e730c66",
   "metadata": {},
   "outputs": [
    {
     "data": {
      "text/plain": [
       "dtype: str\n",
       "Rows: 38657\n",
       "['privacy', 'menu', 'branches', 'sign', 'trolley', 'branch', 'set', 'register', 'lists', 'order', 'quick', 'departments', 'brands', 'trade', 'top', 'view', 'locator', 'sealants', 'adhesives', 'adhesive', 'grab', 'glue', 'wood', 'general', 'wallpaper', 'roofing', 'building', 'sanitary', 'heat', 'fire', 'foam', 'expanding', 'tapes', 'duct', 'tape', 'cloth', 'masking', 'hazard', 'safety', 'board', 'plaster', 'repair', 'fixing', 'caulks', 'tools', 'sealant', 'automotive', 'mechanics', 'ratchets', 'wrenches', 'spanners', 'sockets', 'keys', 'hex', 'bodywork', 'inflators', 'tyre', 'testers', 'electrical', 'equipment', 'garage', 'compressors', 'winches', 'stands', 'jacks', 'sprays', 'lubricants', 'cleaning', 'care', 'car', 'breakdown', 'vehicle', 'chargers', 'starting', 'battery', 'towing', 'funnels', 'cans', 'fuel', 'accessories', 'racks', 'roof', 'ropes', 'straps', 'ev', 'security', 'usb', 'inverters', 'power', 'interior', 'additives', 'motor', 'bulbs', 'bathrooms', 'taps', 'bathroom', 'pillar', 'basin', 'mixer', 'bath', ... ]"
      ]
     },
     "execution_count": 7,
     "metadata": {},
     "output_type": "execute_result"
    }
   ],
   "source": [
    "model._get('vocabulary')"
   ]
  },
  {
   "cell_type": "code",
   "execution_count": 8,
   "id": "2f4add6f",
   "metadata": {},
   "outputs": [
    {
     "name": "stdout",
     "output_type": "stream",
     "text": [
      "+-------------------------------+\n",
      "|             words             |\n",
      "+-------------------------------+\n",
      "| [microsoft, provide, inclu... |\n",
      "| [service, data, contact, a... |\n",
      "| [data, information, servic... |\n",
      "| [personal, privacy, device... |\n",
      "| [information, cookies, sit... |\n",
      "| [website, privacy, service... |\n",
      "+-------------------------------+\n",
      "[6 rows x 1 columns]\n",
      "\n"
     ]
    }
   ],
   "source": [
    "print(model.get_topics(output_type='topic_words'))\n"
   ]
  },
  {
   "cell_type": "code",
   "execution_count": 30,
   "id": "254e2bdd",
   "metadata": {},
   "outputs": [],
   "source": [
    "model.save('Privacy_Policy_Topic_Analysis.model')"
   ]
  },
  {
   "cell_type": "code",
   "execution_count": 6,
   "id": "d63e68dd",
   "metadata": {},
   "outputs": [
    {
     "data": {
      "text/html": [
       "<div style=\"max-height:1000px;max-width:1500px;overflow:auto;\"><table frame=\"box\" rules=\"cols\">\n",
       "    <tr>\n",
       "        <th style=\"padding-left: 1em; padding-right: 1em; text-align: center\">words</th>\n",
       "    </tr>\n",
       "    <tr>\n",
       "        <td style=\"padding-left: 1em; padding-right: 1em; text-align: center; vertical-align: top\">[device, cookies, online,<br>policy, support] ...</td>\n",
       "    </tr>\n",
       "    <tr>\n",
       "        <td style=\"padding-left: 1em; padding-right: 1em; text-align: center; vertical-align: top\">[information, privacy,<br>service, products, ...</td>\n",
       "    </tr>\n",
       "    <tr>\n",
       "        <td style=\"padding-left: 1em; padding-right: 1em; text-align: center; vertical-align: top\">[information, personal,<br>user, business, parties] ...</td>\n",
       "    </tr>\n",
       "    <tr>\n",
       "        <td style=\"padding-left: 1em; padding-right: 1em; text-align: center; vertical-align: top\">[account, 1, collect, 4,<br>3] ...</td>\n",
       "    </tr>\n",
       "    <tr>\n",
       "        <td style=\"padding-left: 1em; padding-right: 1em; text-align: center; vertical-align: top\">[services, information,<br>google, advertising,  ...</td>\n",
       "    </tr>\n",
       "    <tr>\n",
       "        <td style=\"padding-left: 1em; padding-right: 1em; text-align: center; vertical-align: top\">[account, including,<br>policy, microsoft, ...</td>\n",
       "    </tr>\n",
       "    <tr>\n",
       "        <td style=\"padding-left: 1em; padding-right: 1em; text-align: center; vertical-align: top\">[website, contact,<br>rights, including, em ...</td>\n",
       "    </tr>\n",
       "    <tr>\n",
       "        <td style=\"padding-left: 1em; padding-right: 1em; text-align: center; vertical-align: top\">[data, personal, time,<br>processing, consent] ...</td>\n",
       "    </tr>\n",
       "    <tr>\n",
       "        <td style=\"padding-left: 1em; padding-right: 1em; text-align: center; vertical-align: top\">[personal, information,<br>collect, legal, address] ...</td>\n",
       "    </tr>\n",
       "    <tr>\n",
       "        <td style=\"padding-left: 1em; padding-right: 1em; text-align: center; vertical-align: top\">[data, microsoft,<br>privacy, access, prov ...</td>\n",
       "    </tr>\n",
       "</table>\n",
       "[10 rows x 1 columns]<br/>\n",
       "</div>"
      ],
      "text/plain": [
       "Columns:\n",
       "\twords\tlist\n",
       "\n",
       "Rows: 10\n",
       "\n",
       "Data:\n",
       "+-------------------------------+\n",
       "|             words             |\n",
       "+-------------------------------+\n",
       "| [device, cookies, online, ... |\n",
       "| [information, privacy, ser... |\n",
       "| [information, personal, us... |\n",
       "|  [account, 1, collect, 4, 3]  |\n",
       "| [services, information, go... |\n",
       "| [account, including, polic... |\n",
       "| [website, contact, rights,... |\n",
       "| [data, personal, time, pro... |\n",
       "| [personal, information, co... |\n",
       "| [data, microsoft, privacy,... |\n",
       "+-------------------------------+\n",
       "[10 rows x 1 columns]"
      ]
     },
     "execution_count": 6,
     "metadata": {},
     "output_type": "execute_result"
    }
   ],
   "source": [
    "model.get_topics(output_type='topic_words')"
   ]
  },
  {
   "cell_type": "code",
   "execution_count": 7,
   "id": "0220e712",
   "metadata": {},
   "outputs": [],
   "source": [
    "x = model.get_topics(output_type='topic_words')"
   ]
  },
  {
   "cell_type": "code",
   "execution_count": 22,
   "id": "5d27c9b5",
   "metadata": {},
   "outputs": [],
   "source": [
    "test = model.get_topics([0], num_words=100)"
   ]
  },
  {
   "cell_type": "code",
   "execution_count": 25,
   "id": "447d3bea",
   "metadata": {},
   "outputs": [
    {
     "name": "stdout",
     "output_type": "stream",
     "text": [
      "+-------+---------------+-----------------------+\n",
      "| topic |      word     |         score         |\n",
      "+-------+---------------+-----------------------+\n",
      "|   0   |     device    |  0.05954405989119464  |\n",
      "|   0   |    cookies    |  0.02649432036569405  |\n",
      "|   0   |     online    |  0.024911656782782756 |\n",
      "|   0   |     policy    |  0.01307492914588315  |\n",
      "|   0   |    support    |  0.01239664475320688  |\n",
      "|   0   |  advertising  |  0.012383345059232836 |\n",
      "|   0   |      sign     |  0.012303546895388569 |\n",
      "|   0   |      app      |  0.010547987290814695 |\n",
      "|   0   |    service    |  0.008393436867019486 |\n",
      "|   0   |    provide    |  0.00828703931522713  |\n",
      "|   0   |    features   | 0.0075422564526806376 |\n",
      "|   0   |    settings   |  0.006651176956419656 |\n",
      "|   0   |      top      |  0.006451681546808989 |\n",
      "|   0   |     check     |  0.006198987361302143 |\n",
      "|   0   |     games     |  0.006172387973354053 |\n",
      "|   0   |   statement   |  0.00598619225771743  |\n",
      "|   0   |      link     |  0.00598619225771743  |\n",
      "|   0   |   analytics   |  0.005786696848106763 |\n",
      "|   0   |  recognition  |  0.005613800826444184 |\n",
      "|   0   |       ip      |  0.005414305416833517 |\n",
      "|   0   |       و       |  0.005401005722859472 |\n",
      "|   0   |     number    |  0.005321207559015205 |\n",
      "|   0   | automatically |  0.004869017963897692 |\n",
      "|   0   |    feedback   |  0.004762620412105336 |\n",
      "|   0   |     credit    |  0.004563125002494669 |\n",
      "|   0   |     events    |  0.004549825308520624 |\n",
      "|   0   | communication |  0.004376929286858046 |\n",
      "|   0   |    payment    |  0.004363629592884001 |\n",
      "|   0   |    policies   |  0.004323730510961868 |\n",
      "|   0   |   platforms   |  0.004137534795325245 |\n",
      "|   0   |   enterprise  |   0.0041242351013512  |\n",
      "|   0   |     based     |  0.004097635713403111 |\n",
      "|   0   |   experience  |   0.0040045378555848  |\n",
      "|   0   |    details    |  0.003911439997766488 |\n",
      "|   0   |    profile    |  0.003658745812259643 |\n",
      "|   0   |  applications | 0.0034592504026489754 |\n",
      "|   0   |       id      | 0.0034592504026489754 |\n",
      "|   0   |    version    | 0.0034326510147008864 |\n",
      "|   0   |      page     | 0.0034060516267527974 |\n",
      "|   0   |      back     | 0.0033661525448306635 |\n",
      "|   0   |       10      | 0.0033661525448306635 |\n",
      "|   0   |      vue      |  0.003273054687012352 |\n",
      "|   0   |    hardware   |  0.003246455299064263 |\n",
      "|   0   |      made     |  0.003193256523168085 |\n",
      "|   0   |    perform    |  0.003166657135219996 |\n",
      "|   0   |   legitimate  |  0.003166657135219996 |\n",
      "|   0   |    measure    | 0.0031533574412459515 |\n",
      "|   0   |     terms     | 0.0031001586653497735 |\n",
      "|   0   |    members    | 0.0031001586653497735 |\n",
      "|   0   |    contacts   | 0.0030203605015055065 |\n",
      "+-------+---------------+-----------------------+\n",
      "[100 rows x 3 columns]\n",
      "\n"
     ]
    }
   ],
   "source": [
    "test.print_rows(num_rows=50, num_columns=3)"
   ]
  },
  {
   "cell_type": "code",
   "execution_count": 19,
   "id": "a1c825b5",
   "metadata": {},
   "outputs": [],
   "source": [
    "test2 = model.get_topics([1], num_words=50)"
   ]
  },
  {
   "cell_type": "code",
   "execution_count": 20,
   "id": "645ca506",
   "metadata": {},
   "outputs": [
    {
     "data": {
      "text/html": [
       "<div style=\"max-height:1000px;max-width:1500px;overflow:auto;\"><table frame=\"box\" rules=\"cols\">\n",
       "    <tr>\n",
       "        <th style=\"padding-left: 1em; padding-right: 1em; text-align: center\">topic</th>\n",
       "        <th style=\"padding-left: 1em; padding-right: 1em; text-align: center\">word</th>\n",
       "        <th style=\"padding-left: 1em; padding-right: 1em; text-align: center\">score</th>\n",
       "    </tr>\n",
       "    <tr>\n",
       "        <td style=\"padding-left: 1em; padding-right: 1em; text-align: center; vertical-align: top\">1</td>\n",
       "        <td style=\"padding-left: 1em; padding-right: 1em; text-align: center; vertical-align: top\">information</td>\n",
       "        <td style=\"padding-left: 1em; padding-right: 1em; text-align: center; vertical-align: top\">0.06995778014665938</td>\n",
       "    </tr>\n",
       "    <tr>\n",
       "        <td style=\"padding-left: 1em; padding-right: 1em; text-align: center; vertical-align: top\">1</td>\n",
       "        <td style=\"padding-left: 1em; padding-right: 1em; text-align: center; vertical-align: top\">privacy</td>\n",
       "        <td style=\"padding-left: 1em; padding-right: 1em; text-align: center; vertical-align: top\">0.04735079929041083</td>\n",
       "    </tr>\n",
       "    <tr>\n",
       "        <td style=\"padding-left: 1em; padding-right: 1em; text-align: center; vertical-align: top\">1</td>\n",
       "        <td style=\"padding-left: 1em; padding-right: 1em; text-align: center; vertical-align: top\">service</td>\n",
       "        <td style=\"padding-left: 1em; padding-right: 1em; text-align: center; vertical-align: top\">0.040874942824255085</td>\n",
       "    </tr>\n",
       "    <tr>\n",
       "        <td style=\"padding-left: 1em; padding-right: 1em; text-align: center; vertical-align: top\">1</td>\n",
       "        <td style=\"padding-left: 1em; padding-right: 1em; text-align: center; vertical-align: top\">products</td>\n",
       "        <td style=\"padding-left: 1em; padding-right: 1em; text-align: center; vertical-align: top\">0.03595953369934168</td>\n",
       "    </tr>\n",
       "    <tr>\n",
       "        <td style=\"padding-left: 1em; padding-right: 1em; text-align: center; vertical-align: top\">1</td>\n",
       "        <td style=\"padding-left: 1em; padding-right: 1em; text-align: center; vertical-align: top\">cookies</td>\n",
       "        <td style=\"padding-left: 1em; padding-right: 1em; text-align: center; vertical-align: top\">0.02651882728482546</td>\n",
       "    </tr>\n",
       "    <tr>\n",
       "        <td style=\"padding-left: 1em; padding-right: 1em; text-align: center; vertical-align: top\">1</td>\n",
       "        <td style=\"padding-left: 1em; padding-right: 1em; text-align: center; vertical-align: top\">provide</td>\n",
       "        <td style=\"padding-left: 1em; padding-right: 1em; text-align: center; vertical-align: top\">0.021593665364029294</td>\n",
       "    </tr>\n",
       "    <tr>\n",
       "        <td style=\"padding-left: 1em; padding-right: 1em; text-align: center; vertical-align: top\">1</td>\n",
       "        <td style=\"padding-left: 1em; padding-right: 1em; text-align: center; vertical-align: top\">browser</td>\n",
       "        <td style=\"padding-left: 1em; padding-right: 1em; text-align: center; vertical-align: top\">0.01757551346033024</td>\n",
       "    </tr>\n",
       "    <tr>\n",
       "        <td style=\"padding-left: 1em; padding-right: 1em; text-align: center; vertical-align: top\">1</td>\n",
       "        <td style=\"padding-left: 1em; padding-right: 1em; text-align: center; vertical-align: top\">search</td>\n",
       "        <td style=\"padding-left: 1em; padding-right: 1em; text-align: center; vertical-align: top\">0.016522211504991655</td>\n",
       "    </tr>\n",
       "    <tr>\n",
       "        <td style=\"padding-left: 1em; padding-right: 1em; text-align: center; vertical-align: top\">1</td>\n",
       "        <td style=\"padding-left: 1em; padding-right: 1em; text-align: center; vertical-align: top\">web</td>\n",
       "        <td style=\"padding-left: 1em; padding-right: 1em; text-align: center; vertical-align: top\">0.01607358289438448</td>\n",
       "    </tr>\n",
       "    <tr>\n",
       "        <td style=\"padding-left: 1em; padding-right: 1em; text-align: center; vertical-align: top\">1</td>\n",
       "        <td style=\"padding-left: 1em; padding-right: 1em; text-align: center; vertical-align: top\">notice</td>\n",
       "        <td style=\"padding-left: 1em; padding-right: 1em; text-align: center; vertical-align: top\">0.012387026050699428</td>\n",
       "    </tr>\n",
       "</table>\n",
       "[50 rows x 3 columns]<br/>Note: Only the head of the SFrame is printed.<br/>You can use print_rows(num_rows=m, num_columns=n) to print more rows and columns.\n",
       "</div>"
      ],
      "text/plain": [
       "Columns:\n",
       "\ttopic\tint\n",
       "\tword\tstr\n",
       "\tscore\tfloat\n",
       "\n",
       "Rows: 50\n",
       "\n",
       "Data:\n",
       "+-------+-------------+----------------------+\n",
       "| topic |     word    |        score         |\n",
       "+-------+-------------+----------------------+\n",
       "|   1   | information | 0.06995778014665938  |\n",
       "|   1   |   privacy   | 0.04735079929041083  |\n",
       "|   1   |   service   | 0.040874942824255085 |\n",
       "|   1   |   products  | 0.03595953369934168  |\n",
       "|   1   |   cookies   | 0.02651882728482546  |\n",
       "|   1   |   provide   | 0.021593665364029294 |\n",
       "|   1   |   browser   | 0.01757551346033024  |\n",
       "|   1   |    search   | 0.016522211504991655 |\n",
       "|   1   |     web     | 0.01607358289438448  |\n",
       "|   1   |    notice   | 0.012387026050699428 |\n",
       "+-------+-------------+----------------------+\n",
       "[50 rows x 3 columns]\n",
       "Note: Only the head of the SFrame is printed.\n",
       "You can use print_rows(num_rows=m, num_columns=n) to print more rows and columns."
      ]
     },
     "execution_count": 20,
     "metadata": {},
     "output_type": "execute_result"
    }
   ],
   "source": [
    "test2"
   ]
  },
  {
   "cell_type": "code",
   "execution_count": 21,
   "id": "f5080da3",
   "metadata": {},
   "outputs": [
    {
     "name": "stdout",
     "output_type": "stream",
     "text": [
      "+-------+-------------+-----------------------+\n",
      "| topic |     word    |         score         |\n",
      "+-------+-------------+-----------------------+\n",
      "|   1   | information |  0.06995778014665938  |\n",
      "|   1   |   privacy   |  0.04735079929041083  |\n",
      "|   1   |   service   |  0.040874942824255085 |\n",
      "|   1   |   products  |  0.03595953369934168  |\n",
      "|   1   |   cookies   |  0.02651882728482546  |\n",
      "|   1   |   provide   |  0.021593665364029294 |\n",
      "|   1   |   browser   |  0.01757551346033024  |\n",
      "|   1   |    search   |  0.016522211504991655 |\n",
      "|   1   |     web     |  0.01607358289438448  |\n",
      "|   1   |    notice   |  0.012387026050699428 |\n",
      "|   1   |   websites  |  0.010875342688870901 |\n",
      "|   1   |    delete   |  0.010582758812387962 |\n",
      "|   1   |   activity  |  0.010221905364725668 |\n",
      "|   1   |   address   |  0.009344153735276847 |\n",
      "|   1   |   software  |  0.00849566049347632  |\n",
      "|   1   |  protection |  0.008349368555234849 |\n",
      "|   1   |    terms    |  0.007812964781682792 |\n",
      "|   1   |   product   |  0.007481369721668791 |\n",
      "|   1   |   security  |  0.007140021865772028 |\n",
      "|   1   |   customer  |  0.006954718743999499 |\n",
      "|   1   |    manage   |  0.006798674009875264 |\n",
      "|   1   |     type    |  0.00674991003046144  |\n",
      "|   1   |    policy   | 0.0067011460510476165 |\n",
      "|   1   |    based    |  0.006457326153978499 |\n",
      "|   1   |  providers  |  0.006379303786916382 |\n",
      "|   1   |     edge    |  0.006359798195150853 |\n",
      "|   1   |  diagnostic |  0.006086719910433441 |\n",
      "|   1   |   network   |  0.005969686359840265 |\n",
      "|   1   |    rights   |  0.005950180768074736 |\n",
      "|   1   |  understand |  0.005706360871005619 |\n",
      "|   1   |    update   |  0.005589327320412442 |\n",
      "|   1   |   devices   |  0.005550316136881383 |\n",
      "|   1   |   platform  |  0.005482046565702031 |\n",
      "|   1   | preferences |  0.00518946268921909  |\n",
      "|   1   |    videos   |  0.004945642792149973 |\n",
      "|   1   |    you’re   |  0.004779845262142974 |\n",
      "|   1   |    unique   | 0.0045360253650738565 |\n",
      "|   1   | advertisers |  0.004438497406246209 |\n",
      "|   1   |   language  |  0.004389733426832386 |\n",
      "|   1   |  statement  |  0.00425319428447368  |\n",
      "|   1   |  providing  |  0.004233688692708151 |\n",
      "|   1   |   computer  |  0.004194677509177092 |\n",
      "|   1   |  legitimate |  0.004019127183287328 |\n",
      "|   1   |    helps    |  0.003921599224459681 |\n",
      "|   1   |     www     | 0.0038045656738665045 |\n",
      "|   1   |  interests  | 0.0034924762056180348 |\n",
      "|   1   |   prevent   | 0.0034924762056180348 |\n",
      "|   1   |    offer    | 0.0034729706138525054 |\n",
      "|   1   |   payment   |  0.003453465022086976 |\n",
      "|   1   |   internet  | 0.0033754426550248583 |\n",
      "+-------+-------------+-----------------------+\n",
      "[50 rows x 3 columns]\n",
      "\n"
     ]
    }
   ],
   "source": [
    "test2.print_rows(num_rows=50, num_columns=3)"
   ]
  },
  {
   "cell_type": "code",
   "execution_count": 26,
   "id": "69bc8313",
   "metadata": {},
   "outputs": [],
   "source": [
    "test3 = model.get_topics([7], num_words=50)"
   ]
  },
  {
   "cell_type": "code",
   "execution_count": 27,
   "id": "c35a73d5",
   "metadata": {},
   "outputs": [
    {
     "name": "stdout",
     "output_type": "stream",
     "text": [
      "+-------+----------------+-----------------------+\n",
      "| topic |      word      |         score         |\n",
      "+-------+----------------+-----------------------+\n",
      "|   7   |      data      |  0.10537295747567542  |\n",
      "|   7   |    personal    |  0.045952075624206945 |\n",
      "|   7   |      time      |  0.03098186819867111  |\n",
      "|   7   |   processing   |  0.02479447449316435  |\n",
      "|   7   |    consent     |  0.023031341065577467 |\n",
      "|   7   |   marketing    |  0.01883705471299501  |\n",
      "|   7   |     party      |  0.017533869136082965 |\n",
      "|   7   |    purposes    |  0.014500403549489385 |\n",
      "|   7   |     cookie     |  0.012846781514920321 |\n",
      "|   7   |     email      |  0.011850227838458169 |\n",
      "|   7   |      xbox      |  0.011587400495215405 |\n",
      "|   7   |     learn      |  0.011521693659404713 |\n",
      "|   7   |    related     |  0.011236964037558384 |\n",
      "|   7   |    required    |  0.010141850107380198 |\n",
      "|   7   |    messages    |  0.009900925042740996 |\n",
      "|   7   |    provided    |  0.009835218206930306 |\n",
      "|   7   |     basis      |  0.008718201998148553 |\n",
      "|   7   |      law       |  0.00869629971954499  |\n",
      "|   7   |    control     |  0.008663446301639644 |\n",
      "|   7   |      opt       |  0.008137791615154114 |\n",
      "|   7   |     terms      |  0.007995426804230949 |\n",
      "|   7   |    receive     |  0.007842110854006004 |\n",
      "|   7   |     public     | 0.0076230880679703655 |\n",
      "|   7   |    company     |  0.006834606038242071 |\n",
      "|   7   |    subject     |  0.00653892527709396  |\n",
      "|   7   |     links      |  0.006517022998490396 |\n",
      "|   7   |    content     |  0.006451316162679705 |\n",
      "|   7   |     access     |  0.006330853630360104 |\n",
      "|   7   |     you’ve     | 0.0058490035010817015 |\n",
      "|   7   |    partners    | 0.0058161500831763555 |\n",
      "|   7   |    business    |  0.005629980715046064 |\n",
      "|   7   |     social     |  0.005443811346915772 |\n",
      "|   7   |      make      |  0.005378104511105081 |\n",
      "|   7   |     policy     |  0.005115277167862316 |\n",
      "|   7   |     store      |  0.005027668053448061 |\n",
      "|   7   |     emails     |  0.004272039441625111 |\n",
      "|   7   |    payment     |  0.004096821212796601 |\n",
      "|   7   |      made      |  0.004085870073494819 |\n",
      "|   7   |     change     | 0.0036040199442164164 |\n",
      "|   7   |      365       |  0.003549264247707507 |\n",
      "|   7   |      set       | 0.0035383131084057253 |\n",
      "|   7   | advertisements |  0.003395948297482561 |\n",
      "|   7   |     people     |  0.003363094879577215 |\n",
      "|   7   |   processed    |  0.003363094879577215 |\n",
      "|   7   |    disclose    |  0.003176925511446923 |\n",
      "|   7   |    message     | 0.0031331209542397958 |\n",
      "|   7   |  applications  | 0.0030345607005237587 |\n",
      "|   7   |   agreement    | 0.0029907561433166314 |\n",
      "|   7   |      note      |  0.00292504930750594  |\n",
      "|   7   |  application   | 0.0028702936109970306 |\n",
      "+-------+----------------+-----------------------+\n",
      "[50 rows x 3 columns]\n",
      "\n"
     ]
    }
   ],
   "source": [
    "test3.print_rows(num_rows=50, num_columns=3)"
   ]
  },
  {
   "cell_type": "code",
   "execution_count": null,
   "id": "73db4926",
   "metadata": {},
   "outputs": [],
   "source": []
  }
 ],
 "metadata": {
  "kernelspec": {
   "display_name": "Python 3",
   "language": "python",
   "name": "python3"
  },
  "language_info": {
   "codemirror_mode": {
    "name": "ipython",
    "version": 3
   },
   "file_extension": ".py",
   "mimetype": "text/x-python",
   "name": "python",
   "nbconvert_exporter": "python",
   "pygments_lexer": "ipython3",
   "version": "3.8.8"
  }
 },
 "nbformat": 4,
 "nbformat_minor": 5
}
