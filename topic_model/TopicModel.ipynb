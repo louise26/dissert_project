{
 "cells": [
  {
   "cell_type": "code",
   "execution_count": 25,
   "id": "809418ad",
   "metadata": {},
   "outputs": [
    {
     "data": {
      "text/html": [
       "<pre>Finished parsing file /Users/louisemoizan/Documents/dissert_project/topic_model/Netflix.com.txt</pre>"
      ],
      "text/plain": [
       "Finished parsing file /Users/louisemoizan/Documents/dissert_project/topic_model/Netflix.com.txt"
      ]
     },
     "metadata": {},
     "output_type": "display_data"
    },
    {
     "name": "stdout",
     "output_type": "stream",
     "text": [
      "------------------------------------------------------\n",
      "Inferred types from first 100 line(s) of file as \n",
      "column_type_hints=[str]\n",
      "If parsing fails due to incorrect types, you can correct\n",
      "the inferred type list above and pass it to read_csv in\n",
      "the column_type_hints argument\n",
      "------------------------------------------------------\n"
     ]
    },
    {
     "data": {
      "text/html": [
       "<pre>Parsing completed. Parsed 100 lines in 0.016193 secs.</pre>"
      ],
      "text/plain": [
       "Parsing completed. Parsed 100 lines in 0.016193 secs."
      ]
     },
     "metadata": {},
     "output_type": "display_data"
    },
    {
     "data": {
      "text/html": [
       "<pre>Finished parsing file /Users/louisemoizan/Documents/dissert_project/topic_model/Netflix.com.txt</pre>"
      ],
      "text/plain": [
       "Finished parsing file /Users/louisemoizan/Documents/dissert_project/topic_model/Netflix.com.txt"
      ]
     },
     "metadata": {},
     "output_type": "display_data"
    },
    {
     "data": {
      "text/html": [
       "<pre>Parsing completed. Parsed 204 lines in 0.003655 secs.</pre>"
      ],
      "text/plain": [
       "Parsing completed. Parsed 204 lines in 0.003655 secs."
      ]
     },
     "metadata": {},
     "output_type": "display_data"
    }
   ],
   "source": [
    "import turicreate as tc\n",
    "\n",
    "docs = tc.SFrame.read_csv('Netflix.com.txt', header=False, delimiter='\\c')"
   ]
  },
  {
   "cell_type": "code",
   "execution_count": 26,
   "id": "99715a19",
   "metadata": {},
   "outputs": [
    {
     "data": {
      "text/html": [
       "<pre>Learning a topic model</pre>"
      ],
      "text/plain": [
       "Learning a topic model"
      ]
     },
     "metadata": {},
     "output_type": "display_data"
    },
    {
     "data": {
      "text/html": [
       "<pre>       Number of documents       204</pre>"
      ],
      "text/plain": [
       "       Number of documents       204"
      ]
     },
     "metadata": {},
     "output_type": "display_data"
    },
    {
     "data": {
      "text/html": [
       "<pre>           Vocabulary size       719</pre>"
      ],
      "text/plain": [
       "           Vocabulary size       719"
      ]
     },
     "metadata": {},
     "output_type": "display_data"
    },
    {
     "data": {
      "text/html": [
       "<pre>   Running collapsed Gibbs sampling</pre>"
      ],
      "text/plain": [
       "   Running collapsed Gibbs sampling"
      ]
     },
     "metadata": {},
     "output_type": "display_data"
    },
    {
     "data": {
      "text/html": [
       "<pre>+-----------+---------------+----------------+-----------------+</pre>"
      ],
      "text/plain": [
       "+-----------+---------------+----------------+-----------------+"
      ]
     },
     "metadata": {},
     "output_type": "display_data"
    },
    {
     "data": {
      "text/html": [
       "<pre>| Iteration | Elapsed Time  | Tokens/Second  | Est. Perplexity |</pre>"
      ],
      "text/plain": [
       "| Iteration | Elapsed Time  | Tokens/Second  | Est. Perplexity |"
      ]
     },
     "metadata": {},
     "output_type": "display_data"
    },
    {
     "data": {
      "text/html": [
       "<pre>+-----------+---------------+----------------+-----------------+</pre>"
      ],
      "text/plain": [
       "+-----------+---------------+----------------+-----------------+"
      ]
     },
     "metadata": {},
     "output_type": "display_data"
    },
    {
     "data": {
      "text/html": [
       "<pre>| 10        | 25.514ms      | 1.2679e+06     | 0               |</pre>"
      ],
      "text/plain": [
       "| 10        | 25.514ms      | 1.2679e+06     | 0               |"
      ]
     },
     "metadata": {},
     "output_type": "display_data"
    },
    {
     "data": {
      "text/html": [
       "<pre>+-----------+---------------+----------------+-----------------+</pre>"
      ],
      "text/plain": [
       "+-----------+---------------+----------------+-----------------+"
      ]
     },
     "metadata": {},
     "output_type": "display_data"
    }
   ],
   "source": [
    "# Remove stop words and convert to bag of words\n",
    "docs = tc.text_analytics.count_words(docs['X1'])\n",
    "docs = docs.dict_trim_by_keys(tc.text_analytics.stop_words(), exclude=True)\n",
    "\n",
    "# Learn topic model\n",
    "model = tc.topic_model.create(docs, num_topics = 4, initial_topics=['legitimate','consent','contract'])"
   ]
  },
  {
   "cell_type": "code",
   "execution_count": 27,
   "id": "baf8c9cf",
   "metadata": {},
   "outputs": [
    {
     "name": "stdout",
     "output_type": "stream",
     "text": [
      "+-------+-------------+----------------------+\n",
      "| topic |     word    |        score         |\n",
      "+-------+-------------+----------------------+\n",
      "|   0   | information | 0.17093645969025978  |\n",
      "|   0   |   netflix   | 0.10580402373715486  |\n",
      "|   0   |   account   | 0.04501375018092362  |\n",
      "|   0   |   personal  | 0.018960775799681653 |\n",
      "|   0   |    online   |  0.0175133883340571  |\n",
      "|   1   |    device   | 0.06306022959584869  |\n",
      "|   1   |   privacy   | 0.05362478377103343  |\n",
      "|   1   |   service   | 0.04890706085862579  |\n",
      "|   1   |   devices   | 0.03789904072967465  |\n",
      "|   1   |   cookies   | 0.03160874351313114  |\n",
      "+-------+-------------+----------------------+\n",
      "[20 rows x 3 columns]\n",
      "Note: Only the head of the SFrame is printed.\n",
      "You can use print_rows(num_rows=m, num_columns=n) to print more rows and columns.\n"
     ]
    }
   ],
   "source": [
    "print(model.get_topics())"
   ]
  },
  {
   "cell_type": "code",
   "execution_count": 28,
   "id": "f4635554",
   "metadata": {},
   "outputs": [
    {
     "data": {
      "text/plain": [
       "array('d', [0.17093645969025978, 0.00015725743041358775, 0.0001597699312989303, 0.00015627441787779414])"
      ]
     },
     "execution_count": 28,
     "metadata": {},
     "output_type": "execute_result"
    }
   ],
   "source": [
    "model._get('topics')['topic_probabilities'][0]"
   ]
  },
  {
   "cell_type": "code",
   "execution_count": 29,
   "id": "9e730c66",
   "metadata": {},
   "outputs": [
    {
     "data": {
      "text/plain": [
       "dtype: str\n",
       "Rows: 719\n",
       "['information', 'website', 'activities', 'browsing', 'collect', 'analyse', 'learn', 'similar', 'technologies', 'cookies', 'netflix', 'cookie', 'essential', 'change', 'functionality', 'performance', 'preferences', 'close', 'center', 'join', 'sign', 'home', 'back', 'print', 'statement', 'privacy', 'connection', 'disclosure', 'including', 'collection', 'choices', 'personal', 'practices', 'service', 'explains', 'contacting', 'assistance', 'specifically', 'online', 'account', 'visit', 'contact', 'questions', 'customer', 'general', 'officer', 'protection', 'office', 'email', 'data', 'services', 'assist', 'safety', 'authenticate', 'note', 'limited', 'controller', 'uk', 'request', 'fulfilling', 'identity', 'store', 'receive', 'provide', 'includes', 'interact', 'enter', 'payment', 'method', 'ways', 'postal', 'code', 'number', 'telephone', 'address', 'promotions', 'marketing', 'surveys', 'participate', 'taste', 'set', 'choose', 'section', 'settings', 'ratings', 'interactions', 'automatically', 'devices', 'network', 'advertising', 'media', 'boxes', 'systems', 'top', 'mobile', 'tvs', 'smart', 'streaming', 'access', 'gaming', ... ]"
      ]
     },
     "execution_count": 29,
     "metadata": {},
     "output_type": "execute_result"
    }
   ],
   "source": [
    "model._get('vocabulary')"
   ]
  },
  {
   "cell_type": "code",
   "execution_count": null,
   "id": "e8741c67",
   "metadata": {},
   "outputs": [],
   "source": []
  }
 ],
 "metadata": {
  "kernelspec": {
   "display_name": "Python 3",
   "language": "python",
   "name": "python3"
  },
  "language_info": {
   "codemirror_mode": {
    "name": "ipython",
    "version": 3
   },
   "file_extension": ".py",
   "mimetype": "text/x-python",
   "name": "python",
   "nbconvert_exporter": "python",
   "pygments_lexer": "ipython3",
   "version": "3.8.8"
  }
 },
 "nbformat": 4,
 "nbformat_minor": 5
}
