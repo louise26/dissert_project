{
 "cells": [
  {
   "cell_type": "code",
   "execution_count": 31,
   "id": "1ff830dc",
   "metadata": {},
   "outputs": [],
   "source": [
    "import pandas as pd\n",
    "files = [pd.read_json(f'site_data_{r}.json') for r in range(1,501,100)]\n",
    "\n",
    "site_urls = []\n",
    "\n",
    "for file in files:\n",
    "    a_dict = file.loc['Results'].values[0]\n",
    "    site_urls.extend([json_thing['DataUrl'] for json_thing in a_dict['Result']['Alexa']['TopSites']['Country']['Sites']['Site']])\n"
   ]
  },
  {
   "cell_type": "code",
   "execution_count": 41,
   "id": "e7afb84c",
   "metadata": {},
   "outputs": [],
   "source": [
    "site_urls = pd.Series(site_urls)\n",
    "site_urls.name = 'URL'\n",
    "site_urls.to_csv('url_list.csv', index=False)"
   ]
  },
  {
   "cell_type": "code",
   "execution_count": 42,
   "id": "5db3786f",
   "metadata": {},
   "outputs": [],
   "source": []
  },
  {
   "cell_type": "code",
   "execution_count": null,
   "id": "220815ef",
   "metadata": {},
   "outputs": [],
   "source": []
  }
 ],
 "metadata": {
  "kernelspec": {
   "display_name": "Python 3",
   "language": "python",
   "name": "python3"
  },
  "language_info": {
   "codemirror_mode": {
    "name": "ipython",
    "version": 3
   },
   "file_extension": ".py",
   "mimetype": "text/x-python",
   "name": "python",
   "nbconvert_exporter": "python",
   "pygments_lexer": "ipython3",
   "version": "3.8.8"
  }
 },
 "nbformat": 4,
 "nbformat_minor": 5
}
