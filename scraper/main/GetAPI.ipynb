{
 "cells": [
  {
   "cell_type": "code",
   "execution_count": 1,
   "id": "62eba255",
   "metadata": {},
   "outputs": [],
   "source": [
    "import pandas as pd"
   ]
  },
  {
   "cell_type": "code",
   "execution_count": 22,
   "id": "5d506d90",
   "metadata": {
    "scrolled": true
   },
   "outputs": [],
   "source": [
    "country_list = ['GB']\n",
    "start_point = 0\n",
    "range_ = range(1,501,100)\n",
    "for s in range_:\n",
    "    !cd /Users/louisemoizan/Documents/dissert_project/scraper/main/site_data && python topsites.py --key=KM19IsQpxiaSfQcBBcW431zop23rUEHq3hCbLpiA --action=TopSites --options=f\"&Count=100&Output=json&Start={start_point}&ResponseGroup=Country\" --country=GB > site_data_{s}.json\n",
    "    start_point += 100\n",
    "        "
   ]
  },
  {
   "cell_type": "code",
   "execution_count": null,
   "id": "054d62c2",
   "metadata": {},
   "outputs": [],
   "source": []
  }
 ],
 "metadata": {
  "kernelspec": {
   "display_name": "Python 3",
   "language": "python",
   "name": "python3"
  },
  "language_info": {
   "codemirror_mode": {
    "name": "ipython",
    "version": 3
   },
   "file_extension": ".py",
   "mimetype": "text/x-python",
   "name": "python",
   "nbconvert_exporter": "python",
   "pygments_lexer": "ipython3",
   "version": "3.8.8"
  }
 },
 "nbformat": 4,
 "nbformat_minor": 5
}
